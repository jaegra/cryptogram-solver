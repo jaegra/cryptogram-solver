{
 "cells": [
  {
   "cell_type": "code",
   "execution_count": 1,
   "metadata": {},
   "outputs": [
    {
     "data": {
      "text/plain": [
       "<module 'crypto' from '/Users/chris/Documents/cryptogram-solver/src/crypto.py'>"
      ]
     },
     "execution_count": 1,
     "metadata": {},
     "output_type": "execute_result"
    }
   ],
   "source": [
    "from collections import defaultdict, namedtuple\n",
    "from importlib import reload\n",
    "from pathlib import Path\n",
    "from string import ascii_lowercase as LETTERS\n",
    "from random import sample, choice, uniform\n",
    "from time import time\n",
    "from math import log, exp\n",
    "import codecs\n",
    "import csv\n",
    "import logging\n",
    "import random\n",
    "import sys\n",
    "import urllib.request\n",
    "import zipfile\n",
    "\n",
    "from tqdm import tqdm\n",
    "from sklearn.datasets import fetch_20newsgroups\n",
    "import numpy as np\n",
    "import pandas as pd\n",
    "\n",
    "project_dir = Path.cwd().parents[0]\n",
    "sys.path.insert(0, str(project_dir / 'src')) \n",
    "import crypto as cg; reload(cg)"
   ]
  },
  {
   "cell_type": "code",
   "execution_count": 2,
   "metadata": {},
   "outputs": [],
   "source": [
    "logging.basicConfig(\n",
    "    format='%(asctime)s %(levelname)-8s %(message)s',\n",
    "    level=logging.INFO,\n",
    "    datefmt='%Y-%m-%d %H:%M:%S'\n",
    ")"
   ]
  },
  {
   "cell_type": "code",
   "execution_count": 3,
   "metadata": {},
   "outputs": [],
   "source": [
    "def get_documents(max_rows=250):\n",
    "    csv.field_size_limit(sys.maxsize)\n",
    "    articles = list()\n",
    "    for article_num in range(1, 4):\n",
    "        zipname = Path('..', 'data', 'raw', f'articles{article_num}.csv.zip')\n",
    "        filename = f'articles{article_num}.csv'\n",
    "        with zipfile.ZipFile(zipname) as z:\n",
    "            with z.open(filename, 'r') as f:\n",
    "                csvfile = csv.reader(codecs.iterdecode(f, 'utf-8'))\n",
    "                for row, line in enumerate(csvfile):\n",
    "                    articles.append(line[-1])  # get content column\n",
    "                    if row == max_rows:  # per file\n",
    "                        break\n",
    "    articles = articles[1:]  # remove column header\n",
    "    return articles"
   ]
  },
  {
   "cell_type": "code",
   "execution_count": 4,
   "metadata": {},
   "outputs": [],
   "source": [
    "docs = get_documents()"
   ]
  },
  {
   "cell_type": "code",
   "execution_count": 786,
   "metadata": {},
   "outputs": [],
   "source": [
    "# news_train = fetch_20newsgroups(subset='train', shuffle=True, random_state=20180827)\n",
    "# news_test = fetch_20newsgroups(subset='test', shuffle=True, random_state=20180827)"
   ]
  },
  {
   "cell_type": "code",
   "execution_count": 5,
   "metadata": {},
   "outputs": [
    {
     "data": {
      "text/plain": [
       "{Token(ngrams=('this',), kind=<NgramKind: word>, n=1): 1,\n",
       " Token(ngrams=('is',), kind=<NgramKind: word>, n=1): 1,\n",
       " Token(ngrams=('a',), kind=<NgramKind: word>, n=1): 1,\n",
       " Token(ngrams=('sentence',), kind=<NgramKind: word>, n=1): 1,\n",
       " Token(ngrams=('<',), kind=<NgramKind: char>, n=1): 4,\n",
       " Token(ngrams=('t',), kind=<NgramKind: char>, n=1): 2,\n",
       " Token(ngrams=('h',), kind=<NgramKind: char>, n=1): 1,\n",
       " Token(ngrams=('i',), kind=<NgramKind: char>, n=1): 2,\n",
       " Token(ngrams=('s',), kind=<NgramKind: char>, n=1): 3,\n",
       " Token(ngrams=('>',), kind=<NgramKind: char>, n=1): 4,\n",
       " Token(ngrams=('<', 't'), kind=<NgramKind: char>, n=2): 1,\n",
       " Token(ngrams=('t', 'h'), kind=<NgramKind: char>, n=2): 1,\n",
       " Token(ngrams=('h', 'i'), kind=<NgramKind: char>, n=2): 1,\n",
       " Token(ngrams=('i', 's'), kind=<NgramKind: char>, n=2): 2,\n",
       " Token(ngrams=('s', '>'), kind=<NgramKind: char>, n=2): 2,\n",
       " Token(ngrams=('<', 't', 'h'), kind=<NgramKind: char>, n=3): 1,\n",
       " Token(ngrams=('t', 'h', 'i'), kind=<NgramKind: char>, n=3): 1,\n",
       " Token(ngrams=('h', 'i', 's'), kind=<NgramKind: char>, n=3): 1,\n",
       " Token(ngrams=('i', 's', '>'), kind=<NgramKind: char>, n=3): 2,\n",
       " Token(ngrams=('<', 'i'), kind=<NgramKind: char>, n=2): 1,\n",
       " Token(ngrams=('<', 'i', 's'), kind=<NgramKind: char>, n=3): 1,\n",
       " Token(ngrams=('a',), kind=<NgramKind: char>, n=1): 1,\n",
       " Token(ngrams=('<', 'a'), kind=<NgramKind: char>, n=2): 1,\n",
       " Token(ngrams=('a', '>'), kind=<NgramKind: char>, n=2): 1,\n",
       " Token(ngrams=('<', 'a', '>'), kind=<NgramKind: char>, n=3): 1,\n",
       " Token(ngrams=('e',), kind=<NgramKind: char>, n=1): 3,\n",
       " Token(ngrams=('n',), kind=<NgramKind: char>, n=1): 2,\n",
       " Token(ngrams=('c',), kind=<NgramKind: char>, n=1): 1,\n",
       " Token(ngrams=('<', 's'), kind=<NgramKind: char>, n=2): 1,\n",
       " Token(ngrams=('s', 'e'), kind=<NgramKind: char>, n=2): 1,\n",
       " Token(ngrams=('e', 'n'), kind=<NgramKind: char>, n=2): 2,\n",
       " Token(ngrams=('n', 't'), kind=<NgramKind: char>, n=2): 1,\n",
       " Token(ngrams=('t', 'e'), kind=<NgramKind: char>, n=2): 1,\n",
       " Token(ngrams=('n', 'c'), kind=<NgramKind: char>, n=2): 1,\n",
       " Token(ngrams=('c', 'e'), kind=<NgramKind: char>, n=2): 1,\n",
       " Token(ngrams=('e', '>'), kind=<NgramKind: char>, n=2): 1,\n",
       " Token(ngrams=('<', 's', 'e'), kind=<NgramKind: char>, n=3): 1,\n",
       " Token(ngrams=('s', 'e', 'n'), kind=<NgramKind: char>, n=3): 1,\n",
       " Token(ngrams=('e', 'n', 't'), kind=<NgramKind: char>, n=3): 1,\n",
       " Token(ngrams=('n', 't', 'e'), kind=<NgramKind: char>, n=3): 1,\n",
       " Token(ngrams=('t', 'e', 'n'), kind=<NgramKind: char>, n=3): 1,\n",
       " Token(ngrams=('e', 'n', 'c'), kind=<NgramKind: char>, n=3): 1,\n",
       " Token(ngrams=('n', 'c', 'e'), kind=<NgramKind: char>, n=3): 1,\n",
       " Token(ngrams=('c', 'e', '>'), kind=<NgramKind: char>, n=3): 1}"
      ]
     },
     "execution_count": 5,
     "metadata": {},
     "output_type": "execute_result"
    }
   ],
   "source": [
    "tokenizer_test = cg.Tokenizer()\n",
    "tokenizer_test.tokenize(\"This is a sentence.\")"
   ]
  },
  {
   "cell_type": "code",
   "execution_count": 6,
   "metadata": {},
   "outputs": [
    {
     "name": "stderr",
     "output_type": "stream",
     "text": [
      "100%|██████████| 250/250 [00:10<00:00, 24.11it/s]"
     ]
    },
    {
     "name": "stdout",
     "output_type": "stream",
     "text": [
      "26703\n",
      "{(<NgramKind: word>, 1): 279190, (<NgramKind: char>, 1): 1873281, (<NgramKind: char>, 2): 1594091, (<NgramKind: char>, 3): 1314901}\n"
     ]
    },
    {
     "name": "stderr",
     "output_type": "stream",
     "text": [
      "\n"
     ]
    }
   ],
   "source": [
    "reload(cg)\n",
    "tokenizer = cg.Tokenizer(char_ngram_range=(1, 3), word_ngram_range=(1, 1), vocab_size=1000000)\n",
    "# tokenizer.fit(news_train['data'][:2500])\n",
    "tokenizer.fit(docs[:250])\n",
    "print(len(tokenizer.vocab))\n",
    "print(tokenizer.totals)"
   ]
  },
  {
   "cell_type": "code",
   "execution_count": 7,
   "metadata": {},
   "outputs": [
    {
     "data": {
      "text/plain": [
       "{(<NgramKind: word>, 1): 279190,\n",
       " (<NgramKind: char>, 1): 1873281,\n",
       " (<NgramKind: char>, 2): 1594091,\n",
       " (<NgramKind: char>, 3): 1314901}"
      ]
     },
     "execution_count": 7,
     "metadata": {},
     "output_type": "execute_result"
    }
   ],
   "source": [
    "tokenizer.totals"
   ]
  },
  {
   "cell_type": "code",
   "execution_count": 8,
   "metadata": {},
   "outputs": [
    {
     "data": {
      "text/plain": [
       "'ldkpvxiejx  —   rjxigzkkvjxdc gzotycvrdxk pdnz d xzl fzdg lpzx ve rjqzk ej epzvg    pzdcep rdgz cdlktve didvxke epz jydqd duqvxvkegdevjx: epzb qvipe lvx. epz vxrjqvxi egtqo duqvxvkegdevjx rjtcu rpjjkz ej xj cjxizg uzfzxu epz zmzrtevnz ygdxrp didvxke epz ktve, lpvrp rpdcczxizk epz duqvxvkegdevjx’k dtepjgveb ej kozxu yvccvjxk jf ujccdgk jx pzdcep vxktgdxrz ktykvuvzk fjg   dxu   dqzgvrdxk, pdxuvxi pjtkz gzotycvrdxk d yvi nvrejgb jx    vkktzk. yte d ktuuzx cjkk jf epz uvkotezu ktykvuvzk rjtcu rjxrzvndycb rdtkz epz pzdcep rdgz ogjigdq ej vqocjuz, czdnvxi qvccvjxk jf ozjocz lvepjte drrzkk ej pzdcep vxktgdxrz yzfjgz gzotycvrdxk pdnz ogzodgzu d gzocdrzqzxe. epde rjtcu czdu ej rpdjk vx epz vxktgdxrz qdghze dxu kotg d ojcvevrdc ydrhcdkp wtke dk gzotycvrdxk idvx ftcc rjxegjc jf epz ijnzgxqzxe. ej kednz jff epde jterjqz, gzotycvrdxk rjtcu fvxu epzqkzcnzk vx epz dlhldgu ojkvevjx jf doogjogvdevxi ptiz ktqk ej ezqojgdgvcb ogjo to epz jydqd pzdcep rdgz cdl, dxizgvxi rjxkzgndevnz njezgk lpj pdnz yzzx uzqdxuvxi dx zxu ej epz cdl fjg bzdgk. vx dxjepzg elvke, ujxdcu w. egtqo’k duqvxvkegdevjx, ljggvzu dyjte ogzkzgnvxi zmzrtevnz ygdxrp ogzgjidevnzk, rjtcu rpjjkz ej fvipe vek gzotycvrdx dccvzk vx epz pjtkz jx kjqz rzxegdc stzkevjxk vx epz uvkotez. zdizg ej dnjvu dx ticb ojcvevrdc ovczto, gzotycvrdxk jx rdovejc pvcc dxu epz egtqo egdxkvevjx ezdq dgz idqvxi jte pjl ej pdxucz epz cdlktve, lpvrp, dfezg epz zczrevjx, pdk yzzx ote vx cvqyj txevc de czdke cdez fzygtdgb yb epz txvezu kedezk rjtge jf doozdck fjg epz uvkegvre jf rjctqyvd rvgrtve. epzb dgz xje bze gzdub ej uvntciz epzvg kegdezib. “ivnzx epde epvk ozxuvxi cvevidevjx vxnjcnzk epz jydqd duqvxvkegdevjx dxu rjxigzkk, ve ljtcu yz vxdoogjogvdez ej rjqqzxe,” kdvu opvccvo w. ycdxuj, d kojhzkqdx fjg epz egtqo egdxkvevjx zffjge. “tojx edhvxi jffvrz, epz egtqo duqvxvkegdevjx lvcc zndctdez epvk rdkz dxu dcc gzcdezu dkozrek jf epz dffjgudycz rdgz dre. ” vx d ojezxevdccb   uzrvkvjx vx 2015, wtuiz gjkzqdgb q. rjccbzg gtczu epde pjtkz gzotycvrdxk pdu epz kedxuvxi ej ktz epz zmzrtevnz ygdxrp jnzg d kozxuvxi uvkotez dxu epde epz jydqd duqvxvkegdevjx pdu yzzx uvkegvytevxi epz pzdcep vxktgdxrz ktykvuvzk, vx nvjcdevjx jf epz rjxkevetevjx, lvepjte doogjndc fgjq rjxigzkk. epz wtkevrz uzodgeqzxe, rjxfvuzxe epde wtuiz rjccbzg’k uzrvkvjx ljtcu yz gznzgkzu, stvrhcb doozdczu, dxu epz ktykvuvzk pdnz gzqdvxzu vx ocdrz utgvxi epz doozdc. vx ktrrzkkftccb kzzhvxi d ezqojgdgb pdce vx epz ogjrzzuvxik dfezg qg. egtqo ljx, pjtkz gzotycvrdxk cdke qjxep ejcu epz rjtge epde epzb “dxu epz  ’k egdxkvevjx ezdq rtggzxecb dgz uvkrtkkvxi ojezxevdc joevjxk fjg gzkjctevjx jf epvk qdeezg, ej edhz zffzre dfezg epz  ’k vxdtitgdevjx jx wdx. 20, 2017. ” epz ktkozxkvjx jf epz rdkz, pjtkz cdlbzgk kdvu, lvcc “ogjnvuz epz   dxu pvk ftetgz duqvxvkegdevjx evqz ej rjxkvuzg lpzepzg ej rjxevxtz ogjkzrtevxi jg ej jepzglvkz gzkjcnz epvk doozdc. ” gzotycvrdx czduzgkpvo jffvrvdck vx epz pjtkz drhxjlczuiz epz ojkkvyvcveb jf “rdkrduvxi zffzrek” vf epz   odbqzxek, lpvrp pdnz ejedczu dx zkevqdezu $13 yvccvjx, dgz ktuuzxcb kejoozu. vxktgzgk epde gzrzvnz epz ktykvuvzk vx zmrpdxiz fjg odbvxi    rjkek ktrp dk uzutrevyczk dxu   fjg zcvivycz rjxktqzgk rjtcu gdrz ej ugjo rjnzgdiz kvxrz epzb ljtcu yz cjkvxi qjxzb. jnzg dcc, epz cjkk jf epz ktykvuvzk rjtcu uzkedyvcvaz epz zxevgz ogjigdq dxu rdtkz d cdrh jf rjxfvuzxrz epde czduk jepzg vxktgzgk ej kzzh d stvrh zmve dk lzcc. dxevrvodevxi epde epz egtqo duqvxvkegdevjx qvipe xje yz vxrcvxzu ej qjtxe d nvijgjtk fvipe didvxke epz pjtkz gzotycvrdxk ivnzx epz  ’k uvq nvzl jf epz pzdcep rdgz cdl, d ezdq jf cdlbzgk epvk qjxep kjtipe ej vxezgnzxz vx epz rdkz jx yzpdcf jf elj odgevrvodxek vx epz pzdcep rdgz ogjigdq. vx epzvg gzstzke, epz cdlbzgk ogzuvrezu epde d uzdc yzelzzx pjtkz gzotycvrdxk dxu epz xzl duqvxvkegdevjx ej uvkqvkk jg kzeecz epz rdkz “lvcc ogjutrz uzndkedevxi rjxkzstzxrzk fjg epz vxuvnvutdck lpj gzrzvnz epzkz gzutrevjxk, dk lzcc dk fjg epz xdevjx’k pzdcep vxktgdxrz dxu pzdcep rdgz kbkezqk izxzgdccb. ” xj qdeezg lpde pdoozxk, pjtkz gzotycvrdxk kdb, epzb ldxe ej ogzndvc jx elj jnzgdgrpvxi rjxrzoek: epz rjxigzkkvjxdc ojlzg jf epz otgkz, dxu epz gvipe jf rjxigzkk ej ktz epz zmzrtevnz ygdxrp vf ve nvjcdezk epz rjxkevetevjx gzidguvxi epde kozxuvxi ojlzg. pjtkz gzotycvrdxk rjxezxu epde rjxigzkk xznzg doogjogvdezu epz qjxzb fjg epz ktykvuvzk, dk gzstvgzu yb epz rjxkevetevjx. vx epz ktve, lpvrp ldk vxvevdccb rpdqovjxzu yb wjpx d. yjzpxzg, epz pjtkz kozdhzg de epz evqz, dxu cdezg vx pjtkz rjqqveezz gzojgek, gzotycvrdxk dkkzgezu epde epz duqvxvkegdevjx, uzkozgdez fjg epz ftxuvxi, pdu gzstvgzu epz egzdktgb uzodgeqzxe ej ogjnvuz ve uzkovez lvuzkogzdu vxezgxdc khzoevrvkq epde epz kozxuvxi ldk ogjozg. epz lpvez pjtkz kdvu epde epz kozxuvxi ldk d ozgqdxzxe odge jf epz cdl odkkzu vx 2010, dxu epde xj dxxtdc doogjogvdevjx ldk gzstvgzu  —   znzx epjtip epz duqvxvkegdevjx vxvevdccb kjtipe jxz. wtke dk vqojgedxe ej pjtkz gzotycvrdxk, wtuiz rjccbzg fjtxu epde rjxigzkk pdu epz kedxuvxi ej ktz epz lpvez pjtkz jx epvk vkktz  —   d gtcvxi epde qdxb czidc zmozgek kdvu ldk fcdlzu  —   dxu epzb ldxe epde ogzrzuzxe ej yz kze ej gzkejgz rjxigzkkvjxdc cznzgdiz jnzg epz zmzrtevnz ygdxrp. yte jx kozxuvxi ojlzg dxu kedxuvxi, epz egtqo duqvxvkegdevjx qdb rjqz txuzg ogzkktgz fgjq dunjrdezk jf ogzkvuzxevdc dtepjgveb ej fvipe epz pjtkz xj qdeezg epzvg kpdgzu nvzlk jx pzdcep rdgz, kvxrz epjkz ogzrzuzxek rjtcu pdnz ygjdu gzozgrtkkvjxk. ve vk d rjqocvrdezu kze jf ubxdqvrk vcctkegdevxi pjl d stvrh czidc nvrejgb fjg epz pjtkz vx epz egtqo zgd qvipe rjqz lvep rjkek epde gzotycvrdxk xznzg dxevrvodezu lpzx epzb ejjh jx epz jydqd lpvez pjtkz.'"
      ]
     },
     "execution_count": 8,
     "metadata": {},
     "output_type": "execute_result"
    }
   ],
   "source": [
    "# doc = cg.Doc(news_test['data'][0].lower())\n",
    "doc = cg.Doc(docs[0].lower())\n",
    "mapper = cg.Mapping()\n",
    "mapper.scramble()\n",
    "doc = mapper.translate(doc)\n",
    "doc"
   ]
  },
  {
   "cell_type": "code",
   "execution_count": 791,
   "metadata": {},
   "outputs": [
    {
     "name": "stdout",
     "output_type": "stream",
     "text": [
      "20.1\n",
      "3.49\n",
      "0.607\n",
      "0.105\n",
      "0.0183\n"
     ]
    }
   ],
   "source": [
    "[print(f'{x:0.3g}') for x in np.exp(np.linspace(3, -4, 5))];"
   ]
  },
  {
   "cell_type": "code",
   "execution_count": 792,
   "metadata": {},
   "outputs": [],
   "source": [
    "solver = cg.Solver(tokenizer, None, 0.1)"
   ]
  },
  {
   "cell_type": "code",
   "execution_count": 67,
   "metadata": {},
   "outputs": [
    {
     "data": {
      "text/plain": [
       "(10, 9)"
      ]
     },
     "execution_count": 67,
     "metadata": {},
     "output_type": "execute_result"
    }
   ],
   "source": [
    "i1, i2 = sample(range(len(LETTERS)), 2)\n",
    "self.key[i1], self.key[i2] = self.key[i2], self.key[i1]"
   ]
  },
  {
   "cell_type": "code",
   "execution_count": 79,
   "metadata": {},
   "outputs": [],
   "source": [
    "# class Mapping:\n",
    "#     def __init__(self, key=None):\n",
    "#         self.key = key or LETTERS\n",
    "\n",
    "#     def scramble(self):\n",
    "#         self.key = ''.join(sample(self.key, len(self.key)))\n",
    "\n",
    "#     def swap(self, l1, l2, inplace=False):\n",
    "#         tmp = '_'\n",
    "#         key = self.key\\\n",
    "#             .replace(l1, tmp)\\\n",
    "#             .replace(l2, l1)\\\n",
    "#             .replace(tmp, l2)\n",
    "#         if inplace:\n",
    "#             self.key = key\n",
    "#         else:\n",
    "#             return Mapping(key)\n",
    "\n",
    "#     # def random_swap(self, letters=None, inplace=False):\n",
    "#     #     letters = letters or LETTERS\n",
    "#     #     l1 = sample(letters, 1)[0]\n",
    "#     #     l2 = sample(set(LETTERS) - set(l1), 1)[0]\n",
    "#     #     return self.swap(l1, l2, inplace)\n",
    "    \n",
    "#     def random_swap(self, n, inplace=False):\n",
    "#         for _ in range(n):\n",
    "#             i1, i2 = sample(range(len(LETTERS)), 2)\n",
    "#             self.key = list(self.key)\n",
    "#             self.key[i1], self.key[i2] = self.key[i2], self.key[i1]\n",
    "#             self.key = ''.join(self.key)\n",
    "\n",
    "#     def translate(self, text):\n",
    "#         trans = str.maketrans(self.key, LETTERS)\n",
    "#         return type(text)(text.translate(trans))\n",
    "    \n"
   ]
  },
  {
   "cell_type": "code",
   "execution_count": 205,
   "metadata": {},
   "outputs": [
    {
     "data": {
      "text/plain": [
       "'abqdefgmojklhnizcpstuvwxyr'"
      ]
     },
     "execution_count": 205,
     "metadata": {},
     "output_type": "execute_result"
    }
   ],
   "source": [
    "mapping = Mapping()\n",
    "mapping.random_swap(5)\n",
    "mapping.key"
   ]
  },
  {
   "cell_type": "code",
   "execution_count": 823,
   "metadata": {},
   "outputs": [],
   "source": [
    "'''\n",
    "Ideas:\n",
    "> Implement simulated annealing properly (single swap and decision), with a reasonable temp scheduler.\n",
    "  - This works! But need to play with temperature scheduler since results are sensitive to even small changes.\n",
    "> Implement simulated annealing but using softmax and subsetting swap options.\n",
    "> More swaps in the beginning, fewer later.\n",
    "'''\n",
    "\n",
    "def simulated_annealing(text, solver, tokenizer, num_epochs=10000, is_debug=True):\n",
    "    logger = logging.getLogger(__name__)\n",
    "    best_mapping = mapping = cg.Mapping()\n",
    "    doc = cg.Doc(text)\n",
    "    best_score = solver.score(doc)\n",
    "    epoch = 0\n",
    "    decisions = defaultdict(int)\n",
    "    temps = np.exp(np.linspace(0, -6, num_epochs))\n",
    "    decisions['good'], decisions['bad_keep'], decisions['bad_pass'] = 0, 0, 0\n",
    "    for temp in tqdm(temps):\n",
    "        improving = False\n",
    "        new_mapping = mapping.random_swap(doc.letters)\n",
    "        new_doc = new_mapping.translate(doc)\n",
    "        score = solver.score(new_doc)\n",
    "        score_change = score - best_score\n",
    "        if score_change < 0:\n",
    "            # logger.debug('updating (improvement)')\n",
    "            best_mapping = new_mapping\n",
    "            best_score = score\n",
    "            decisions['good'] += 1\n",
    "        elif exp(-score_change / temp) > uniform(0, 1):\n",
    "            # Break this out as different section just for debugging.\n",
    "            # logger.debug(f'updating (bad change): {score_change}')\n",
    "            best_mapping = new_mapping\n",
    "            best_score = score\n",
    "            decisions['bad_keep'] += 1\n",
    "        else:\n",
    "            decisions['bad_pass'] += 1\n",
    "            # logger.debug(f'keeping: {score_change}')\n",
    "        mapping = best_mapping\n",
    "        epoch += 1\n",
    "        if epoch % 1000 == 0:\n",
    "            logger.debug(f'{score:0.5g}, {mapping.mapping}, {mapping.translate(doc).text}')\n",
    "            logger.debug(sorted(list(decisions.items())))\n",
    "            logger.debug(pd.DataFrame(sorted(list(decisions.items()))))\n",
    "            decisions = defaultdict(int)\n",
    "    logger.info(f'\\nfinal best ({epoch} epochs): {best_score:0.5g}')\n",
    "    return mapping.translate(doc).text"
   ]
  },
  {
   "cell_type": "code",
   "execution_count": 794,
   "metadata": {},
   "outputs": [],
   "source": [
    "# doc = cg.Doc(doc.lower())"
   ]
  },
  {
   "cell_type": "code",
   "execution_count": 822,
   "metadata": {},
   "outputs": [],
   "source": [
    "# [print(f'{x:0.3g}') for x in np.exp(np.linspace(-30, -5, 100))];"
   ]
  },
  {
   "cell_type": "code",
   "execution_count": 814,
   "metadata": {},
   "outputs": [],
   "source": [
    "# This is slower than the code above, and less consistent. But it does work.\n",
    "\n",
    "def choose_new_mapping(doc, mapping, score, proportion, temp):\n",
    "    \n",
    "    swap_options = cg.get_swap_options(doc.letters, p=proportion)\n",
    "    mapping_options = [mapping.swap(*s) for s in swap_options]\n",
    "    scores = [solver.score(m.translate(doc)) for m in mapping_options]\n",
    "    \n",
    "    # Add current without having to recompute score.\n",
    "    mapping_options.append(mapping)\n",
    "    scores.append(score)\n",
    "    \n",
    "    probs = solver.softmax(-np.array(scores), temp)\n",
    "    # print(max(probs))\n",
    "    index = np.random.choice(range(len(probs)), size=1, p=probs)[0]\n",
    "    \n",
    "    return mapping_options[index], scores[index]\n",
    "\n",
    "\n",
    "def simulated_annealing(text, solver, tokenizer, epochs, epochsbug=True):\n",
    "    logger = logging.getLogger(__name__)\n",
    "    best_mapping = mapping = cg.Mapping()\n",
    "    doc = cg.Doc(text)\n",
    "    epoch = 0\n",
    "    score = solver.score(mapping.translate(doc))\n",
    "    temps = np.exp(np.linspace(0, -6, epochs))\n",
    "    proportions = np.exp(np.linspace(-30, -5, epochs))\n",
    "    for temp, proportion in tqdm(zip(temps, proportions)):\n",
    "        mapping, score = choose_new_mapping(doc, mapping, score, proportion, temp)\n",
    "        epoch += 1\n",
    "        if epoch % 250 == 0:\n",
    "            logger.debug((\n",
    "                f'{score:0.5g}, {mapping.mapping}, {mapping.translate(doc).text} '\n",
    "                f'temp: {temp:0.5g}, proportion: {proportion:0.5g}'\n",
    "            ))\n",
    "    logger.info(f'\\nfinal best ({epoch} epochs): {epoch:0.5g}')\n",
    "    return mapping.translate(doc).text"
   ]
  },
  {
   "cell_type": "code",
   "execution_count": 815,
   "metadata": {},
   "outputs": [],
   "source": [
    "import spacy\n",
    "nlp = spacy.load('en')"
   ]
  },
  {
   "cell_type": "code",
   "execution_count": 816,
   "metadata": {},
   "outputs": [
    {
     "data": {
      "text/plain": [
       "'bvgi gi bvk ibawu ap s ogwz. lva mwgkx s wgekw sfx xwalfkx bvk lvazk lawzx. sfx lvgzk ivk zaahkx ia isx gf jvabaowsjvi, g sciaznbkzu zaek vkw lvkf ivk itgzki.'"
      ]
     },
     "execution_count": 816,
     "metadata": {},
     "output_type": "execute_result"
    }
   ],
   "source": [
    "# text = doc.text\n",
    "# text = 'Rbo rpktigo vcrb bwucja wj kloj hcjd, km sktpqo, cq rbwr loklgo vcgg cjqcqr kj skhcja wgkja wjd rpycja rk ltr rbcjaq cj cr. -- Roppy Lpwrsborr'\n",
    "text = 'This is the story of a girl. Who cried a river and drowned the whole world. And while she looked so sad in photographs, I absolutely love her when she smiles.'\n",
    "# text = 'Jail zesty vixen who grabbed pay from quack.'\n",
    "# text = \"I've found that when everyone rallies behind a cause, and when they learn their effort can contribute something bigger, they get engaged.\"\n",
    "# text = str(random.choice(list(nlp(random.choice(articles)).sents)))\n",
    "doc = cg.Doc(text.lower())\n",
    "mapping = cg.Mapping()\n",
    "mapping.scramble()\n",
    "doc = mapping.translate(doc)\n",
    "doc.text"
   ]
  },
  {
   "cell_type": "code",
   "execution_count": 817,
   "metadata": {},
   "outputs": [
    {
     "name": "stderr",
     "output_type": "stream",
     "text": [
      "2018-09-18 00:55:43 DEBUG    hi\n"
     ]
    }
   ],
   "source": [
    "logger = logging.getLogger(__name__)\n",
    "logging.basicConfig(level=logging.INFO)\n",
    "logger.debug('hi')"
   ]
  },
  {
   "cell_type": "code",
   "execution_count": 831,
   "metadata": {},
   "outputs": [
    {
     "name": "stderr",
     "output_type": "stream",
     "text": [
      "  9%|▉         | 945/10000 [00:01<00:12, 717.62it/s]2018-09-18 00:58:56 DEBUG    15.88, rdvkzyqsbfjamphocuxiwtgnle, icwt wt icd tilur ln h pwue. ycl muwds h uwzdu hjs sulyjds icd ycled ylues. hjs ycwed tcd ellods tl ths wj kclilpuhkct, w hqtlexider elzd cdu ycdj tcd tvwedt.\n",
      "2018-09-18 00:58:56 DEBUG    [('bad_keep', 416), ('bad_pass', 184), ('good', 400)]\n",
      "2018-09-18 00:58:56 DEBUG              0    1\n",
      "0  bad_keep  416\n",
      "1  bad_pass  184\n",
      "2      good  400\n",
      " 19%|█▉        | 1932/10000 [00:02<00:11, 728.50it/s]2018-09-18 00:58:58 DEBUG    15.478, kcjfilhzxqgwveadnuryptbsom, wmke ke wma ewolr ou x yklh. fmo zlkai x lknal xdi ilofdai wma fmoha folhi. xdi fmkha ema hoogai eo exi kd cmowoylxcme, k xbeohqwahr hona mal fmad ema evkhae.\n",
      "2018-09-18 00:58:58 DEBUG    [('bad_keep', 349), ('bad_pass', 314), ('good', 337)]\n",
      "2018-09-18 00:58:58 DEBUG              0    1\n",
      "0  bad_keep  349\n",
      "1  bad_pass  314\n",
      "2      good  337\n",
      " 30%|██▉       | 2979/10000 [00:04<00:09, 716.89it/s]2018-09-18 00:58:59 DEBUG    14.861, zjsrwdkfipclymxbuavgoqenht, psti ti psg ipreq rj c utea. lsr netgo c etwge cho oerlhgo psg lsrag lreao. cho lstag isg arrygo ir ico th bsrpruecbsi, t ckiraxpgaq arwg sge lsgh isg iztagi.\n",
      "2018-09-18 00:58:59 DEBUG    [('bad_keep', 280), ('bad_pass', 457), ('good', 263)]\n",
      "2018-09-18 00:58:59 DEBUG              0    1\n",
      "0  bad_keep  280\n",
      "1  bad_pass  457\n",
      "2      good  263\n",
      " 40%|███▉      | 3993/10000 [00:05<00:08, 709.65it/s]2018-09-18 00:59:01 DEBUG    12.928, ipcfvhbtxreguswoyakjzqldmn, gela la ges agrom rb n plou. wer yolsi n olkso ndi iorwdsi ges werus wroui. ndi welus aes urrfsi ar ani ld tergrpontea, l ncaruzgsum urks eso wesd aes ahlusa.\n",
      "2018-09-18 00:59:01 DEBUG    [('bad_keep', 160), ('bad_pass', 679), ('good', 161)]\n",
      "2018-09-18 00:59:01 DEBUG              0    1\n",
      "0  bad_keep  160\n",
      "1  bad_pass  679\n",
      "2      good  161\n",
      " 49%|████▉     | 4945/10000 [00:06<00:07, 707.14it/s]2018-09-18 00:59:02 DEBUG    12.623, felhworjzctmnaibygxkvdspuq, puro ro put opney nx w frei. cun lerts w erbte was sencats put cunit cneis. was curit out inndts on ows ra hunpnfewhuo, r wjonimptiy inbt ute cuta out okrito.\n",
      "2018-09-18 00:59:02 DEBUG    [('bad_keep', 114), ('bad_pass', 756), ('good', 130)]\n",
      "2018-09-18 00:59:02 DEBUG              0    1\n",
      "0  bad_keep  114\n",
      "1  bad_pass  756\n",
      "2      good  130\n",
      " 60%|█████▉    | 5979/10000 [00:08<00:05, 708.16it/s]2018-09-18 00:59:03 DEBUG    12.319, iuejfcblvdtsyawoqgxkzmrphn, gira ra git agnob nx l prou. hin vorts l orcto les sonhets git hinut hnous. les hirut ait unnyts an als re dingnpoldia, r lfanuzgtub unct ito hite ait akruta.\n",
      "2018-09-18 00:59:03 DEBUG    [('bad_keep', 50), ('bad_pass', 889), ('good', 61)]\n",
      "2018-09-18 00:59:03 DEBUG              0    1\n",
      "0  bad_keep   50\n",
      "1  bad_pass  889\n",
      "2      good   61\n",
      " 69%|██████▉   | 6934/10000 [00:09<00:04, 707.44it/s]2018-09-18 00:59:05 DEBUG    12.676, itesfmulvyhjpawoqgxkzcbrnd, wira ra wit awnog nm d prou. hin forts d orcto des sonhets wit hinut hnous. des hirut ait unnkts an ads re linwnpodlia, r dvanuywtug unct ito hite ait abruta.\n",
      "2018-09-18 00:59:05 DEBUG    [('bad_keep', 34), ('bad_pass', 926), ('good', 40)]\n",
      "2018-09-18 00:59:05 DEBUG              0    1\n",
      "0  bad_keep   34\n",
      "1  bad_pass  926\n",
      "2      good   40\n",
      " 80%|███████▉  | 7958/10000 [00:11<00:02, 707.21it/s]2018-09-18 00:59:06 DEBUG    12.544, itehfmpbvynsuawoqgxkzjlrcd, hira ra hit ahnom ng l prou. win forts l orcto les sonwets hit winut wnous. les wirut ait unndts an als re vinhnpolvia, r lyanukhtum unct ito wite ait abruta.\n",
      "2018-09-18 00:59:06 DEBUG    [('bad_keep', 11), ('bad_pass', 972), ('good', 17)]\n",
      "2018-09-18 00:59:06 DEBUG              0    1\n",
      "0  bad_keep   11\n",
      "1  bad_pass  972\n",
      "2      good   17\n",
      " 90%|████████▉ | 8960/10000 [00:12<00:01, 704.77it/s]2018-09-18 00:59:08 DEBUG    12.078, itnpfohbvyesuawmqgkxzjlrcd, hira ra his ahnom nd l frou. win porst l orkso let tonwest his winus wnout. let wirus ais unngst an alt re vinhnfolvia, r lyanuchsum unks iso wise ais abrusa.\n",
      "2018-09-18 00:59:08 DEBUG    [('bad_keep', 3), ('bad_pass', 992), ('good', 5)]\n",
      "2018-09-18 00:59:08 DEBUG              0    1\n",
      "0  bad_keep    3\n",
      "1  bad_pass  992\n",
      "2      good    5\n",
      "100%|█████████▉| 9962/10000 [00:14<00:00, 703.54it/s]2018-09-18 00:59:09 DEBUG    12.064, itnefmpbvyhsuawoqgkxzjlrcd, hira ra his ahnom ng l prou. win forst l ordso let tonwest his winus wnout. let wirus ais unnkst an alt re vinhnpolvia, r lyanuchsum unds iso wise ais abrusa.\n",
      "2018-09-18 00:59:09 DEBUG    [('bad_keep', 2), ('bad_pass', 997), ('good', 1)]\n",
      "2018-09-18 00:59:09 DEBUG              0    1\n",
      "0  bad_keep    2\n",
      "1  bad_pass  997\n",
      "2      good    1\n",
      "100%|██████████| 10000/10000 [00:14<00:00, 703.32it/s]\n",
      "2018-09-18 00:59:09 INFO     \n",
      "final best (10000 epochs): 11.836\n"
     ]
    },
    {
     "name": "stdout",
     "output_type": "stream",
     "text": [
      "hira ra his ahnom ng l prou. win forst l ordso let tonwest his winus wnout. let wirus ais unnkst an alt re vinhnpolvia, r lyanuchsum unds iso wise ais abrusa.\n",
      "14.225373029708862\n"
     ]
    }
   ],
   "source": [
    "timer = cg.Timer()\n",
    "timer.tic()\n",
    "logging.basicConfig(level=logging.DEBUG)\n",
    "text = simulated_annealing(doc.text, solver, tokenizer, 10000)\n",
    "print(text)\n",
    "print(timer.toc())"
   ]
  },
  {
   "cell_type": "code",
   "execution_count": null,
   "metadata": {},
   "outputs": [],
   "source": []
  },
  {
   "cell_type": "code",
   "execution_count": null,
   "metadata": {},
   "outputs": [],
   "source": []
  }
 ],
 "metadata": {
  "kernelspec": {
   "display_name": "Python 3",
   "language": "python",
   "name": "python3"
  },
  "language_info": {
   "codemirror_mode": {
    "name": "ipython",
    "version": 3
   },
   "file_extension": ".py",
   "mimetype": "text/x-python",
   "name": "python",
   "nbconvert_exporter": "python",
   "pygments_lexer": "ipython3",
   "version": "3.6.3"
  }
 },
 "nbformat": 4,
 "nbformat_minor": 2
}
