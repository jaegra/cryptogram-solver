{
 "cells": [
  {
   "cell_type": "code",
   "execution_count": 124,
   "metadata": {},
   "outputs": [
    {
     "data": {
      "text/plain": [
       "<module 'crypto' from '/Users/chris/Documents/cryptogram-solver/src/crypto.py'>"
      ]
     },
     "execution_count": 124,
     "metadata": {},
     "output_type": "execute_result"
    }
   ],
   "source": [
    "from collections import defaultdict, namedtuple\n",
    "from importlib import reload\n",
    "from pathlib import Path\n",
    "from string import ascii_lowercase as LETTERS\n",
    "from random import sample, choice, uniform\n",
    "from time import time\n",
    "from math import log, exp\n",
    "import codecs\n",
    "import csv\n",
    "import random\n",
    "import sys\n",
    "import urllib.request\n",
    "import zipfile\n",
    "\n",
    "from tqdm import tqdm\n",
    "from sklearn.datasets import fetch_20newsgroups\n",
    "import numpy as np\n",
    "import pandas as pd\n",
    "\n",
    "sys.path.insert(0, str(Path.cwd().parents[0] / 'src')) \n",
    "import crypto as cg; reload(cg)"
   ]
  },
  {
   "cell_type": "code",
   "execution_count": 13,
   "metadata": {},
   "outputs": [],
   "source": [
    "'https://www.kaggle.com/snapcrack/all-the-news/version/4'\n",
    "article_num = 1\n",
    "filename = f'/Users/chris/Downloads/articles{article_num}.csv.zip'\n",
    "archive = zipfile.ZipFile(filename, 'r')"
   ]
  },
  {
   "cell_type": "code",
   "execution_count": 14,
   "metadata": {},
   "outputs": [],
   "source": [
    "tmp = archive.read('articles1.csv')"
   ]
  },
  {
   "cell_type": "code",
   "execution_count": 63,
   "metadata": {},
   "outputs": [],
   "source": [
    "def get_documents():\n",
    "    csv.field_size_limit(sys.maxsize)\n",
    "    articles = list()\n",
    "    max_rows = 250\n",
    "    for article_num in range(1, 4):\n",
    "        zipname = Path('..', 'data', 'raw', f'articles{article_num}.csv.zip')\n",
    "        filename = f'articles{article_num}.csv'\n",
    "        with zipfile.ZipFile(zipname) as z:\n",
    "            with z.open(filename, 'r') as f:\n",
    "                csvfile = csv.reader(codecs.iterdecode(f, 'utf-8'))\n",
    "                for row, line in enumerate(csvfile):\n",
    "                    articles.append(line[-1])  # get content column\n",
    "                    if row == max_rows:\n",
    "                        break\n",
    "    articles = articles[1:]  # remove column header\n",
    "    return articles"
   ]
  },
  {
   "cell_type": "code",
   "execution_count": 64,
   "metadata": {},
   "outputs": [],
   "source": [
    "docs = get_documents()"
   ]
  },
  {
   "cell_type": "code",
   "execution_count": 65,
   "metadata": {},
   "outputs": [],
   "source": [
    "# news_train = fetch_20newsgroups(subset='train', shuffle=True, random_state=20180827)\n",
    "# news_test = fetch_20newsgroups(subset='test', shuffle=True, random_state=20180827)"
   ]
  },
  {
   "cell_type": "code",
   "execution_count": 125,
   "metadata": {},
   "outputs": [
    {
     "data": {
      "text/plain": [
       "{Token(ngrams=('this',), kind=<NgramKind: word>, n=1): 1,\n",
       " Token(ngrams=('is',), kind=<NgramKind: word>, n=1): 1,\n",
       " Token(ngrams=('a',), kind=<NgramKind: word>, n=1): 1,\n",
       " Token(ngrams=('sentence',), kind=<NgramKind: word>, n=1): 1,\n",
       " Token(ngrams=('<',), kind=<NgramKind: char>, n=1): 4,\n",
       " Token(ngrams=('t',), kind=<NgramKind: char>, n=1): 2,\n",
       " Token(ngrams=('h',), kind=<NgramKind: char>, n=1): 1,\n",
       " Token(ngrams=('i',), kind=<NgramKind: char>, n=1): 2,\n",
       " Token(ngrams=('s',), kind=<NgramKind: char>, n=1): 3,\n",
       " Token(ngrams=('>',), kind=<NgramKind: char>, n=1): 4,\n",
       " Token(ngrams=('<', 't'), kind=<NgramKind: char>, n=2): 1,\n",
       " Token(ngrams=('t', 'h'), kind=<NgramKind: char>, n=2): 1,\n",
       " Token(ngrams=('h', 'i'), kind=<NgramKind: char>, n=2): 1,\n",
       " Token(ngrams=('i', 's'), kind=<NgramKind: char>, n=2): 2,\n",
       " Token(ngrams=('s', '>'), kind=<NgramKind: char>, n=2): 2,\n",
       " Token(ngrams=('<', 't', 'h'), kind=<NgramKind: char>, n=3): 1,\n",
       " Token(ngrams=('t', 'h', 'i'), kind=<NgramKind: char>, n=3): 1,\n",
       " Token(ngrams=('h', 'i', 's'), kind=<NgramKind: char>, n=3): 1,\n",
       " Token(ngrams=('i', 's', '>'), kind=<NgramKind: char>, n=3): 2,\n",
       " Token(ngrams=('<', 'i'), kind=<NgramKind: char>, n=2): 1,\n",
       " Token(ngrams=('<', 'i', 's'), kind=<NgramKind: char>, n=3): 1,\n",
       " Token(ngrams=('a',), kind=<NgramKind: char>, n=1): 1,\n",
       " Token(ngrams=('<', 'a'), kind=<NgramKind: char>, n=2): 1,\n",
       " Token(ngrams=('a', '>'), kind=<NgramKind: char>, n=2): 1,\n",
       " Token(ngrams=('<', 'a', '>'), kind=<NgramKind: char>, n=3): 1,\n",
       " Token(ngrams=('e',), kind=<NgramKind: char>, n=1): 3,\n",
       " Token(ngrams=('n',), kind=<NgramKind: char>, n=1): 2,\n",
       " Token(ngrams=('c',), kind=<NgramKind: char>, n=1): 1,\n",
       " Token(ngrams=('<', 's'), kind=<NgramKind: char>, n=2): 1,\n",
       " Token(ngrams=('s', 'e'), kind=<NgramKind: char>, n=2): 1,\n",
       " Token(ngrams=('e', 'n'), kind=<NgramKind: char>, n=2): 2,\n",
       " Token(ngrams=('n', 't'), kind=<NgramKind: char>, n=2): 1,\n",
       " Token(ngrams=('t', 'e'), kind=<NgramKind: char>, n=2): 1,\n",
       " Token(ngrams=('n', 'c'), kind=<NgramKind: char>, n=2): 1,\n",
       " Token(ngrams=('c', 'e'), kind=<NgramKind: char>, n=2): 1,\n",
       " Token(ngrams=('e', '>'), kind=<NgramKind: char>, n=2): 1,\n",
       " Token(ngrams=('<', 's', 'e'), kind=<NgramKind: char>, n=3): 1,\n",
       " Token(ngrams=('s', 'e', 'n'), kind=<NgramKind: char>, n=3): 1,\n",
       " Token(ngrams=('e', 'n', 't'), kind=<NgramKind: char>, n=3): 1,\n",
       " Token(ngrams=('n', 't', 'e'), kind=<NgramKind: char>, n=3): 1,\n",
       " Token(ngrams=('t', 'e', 'n'), kind=<NgramKind: char>, n=3): 1,\n",
       " Token(ngrams=('e', 'n', 'c'), kind=<NgramKind: char>, n=3): 1,\n",
       " Token(ngrams=('n', 'c', 'e'), kind=<NgramKind: char>, n=3): 1,\n",
       " Token(ngrams=('c', 'e', '>'), kind=<NgramKind: char>, n=3): 1}"
      ]
     },
     "execution_count": 125,
     "metadata": {},
     "output_type": "execute_result"
    }
   ],
   "source": [
    "tokenizer_test = cg.Tokenizer()\n",
    "tokenizer_test.tokenize(\"This is a sentence.\")"
   ]
  },
  {
   "cell_type": "code",
   "execution_count": 126,
   "metadata": {},
   "outputs": [
    {
     "name": "stderr",
     "output_type": "stream",
     "text": [
      "100%|██████████| 752/752 [00:32<00:00, 23.25it/s]"
     ]
    },
    {
     "name": "stdout",
     "output_type": "stream",
     "text": [
      "42219\n",
      "{(<NgramKind: word>, 1): 851576, (<NgramKind: char>, 1): 5733872, (<NgramKind: char>, 2): 4882296, (<NgramKind: char>, 3): 4030720}\n"
     ]
    },
    {
     "name": "stderr",
     "output_type": "stream",
     "text": [
      "\n"
     ]
    }
   ],
   "source": [
    "reload(cg)\n",
    "tokenizer = cg.Tokenizer(char_ngram_range=(1, 3), word_ngram_range=(1, 1), vocab_size=1000000)\n",
    "# tokenizer.fit(news_train['data'][:5000])\n",
    "tokenizer.fit(docs)\n",
    "print(len(tokenizer.vocab))\n",
    "print(tokenizer.totals)"
   ]
  },
  {
   "cell_type": "code",
   "execution_count": 129,
   "metadata": {},
   "outputs": [
    {
     "data": {
      "text/plain": [
       "{(<NgramKind: word>, 1): 851576,\n",
       " (<NgramKind: char>, 1): 5733872,\n",
       " (<NgramKind: char>, 2): 4882296,\n",
       " (<NgramKind: char>, 3): 4030720}"
      ]
     },
     "execution_count": 129,
     "metadata": {},
     "output_type": "execute_result"
    }
   ],
   "source": [
    "tokenizer.totals"
   ]
  },
  {
   "cell_type": "code",
   "execution_count": 130,
   "metadata": {},
   "outputs": [
    {
     "data": {
      "text/plain": [
       "'mnqrjaecha  —   vhaefyqqjhant fygdktjvnaq rnpy n aym synf mrya jc vhlyq ch cryjf    ryntcr vnfy tnmqdjc nenjaqc cry hknln nxljajqcfncjha: cryz ljerc mja. cry javhljae cfdlg nxljajqcfncjha vhdtx vrhhqy ch ah thaeyf xysyax cry yoyvdcjpy kfnavr nenjaqc cry qdjc, mrjvr vrnttyaeyq cry nxljajqcfncjha’q ndcrhfjcz ch qgyax kjttjhaq hs xhttnfq ha ryntcr jaqdfnavy qdkqjxjyq shf   nax   nlyfjvnaq, rnaxjae rhdqy fygdktjvnaq n kje pjvchfz ha    jqqdyq. kdc n qdxxya thqq hs cry xjqgdcyx qdkqjxjyq vhdtx vhavyjpnktz vndqy cry ryntcr vnfy gfhefnl ch jlgthxy, tynpjae ljttjhaq hs gyhgty mjcrhdc nvvyqq ch ryntcr jaqdfnavy kyshfy fygdktjvnaq rnpy gfygnfyx n fygtnvylyac. crnc vhdtx tynx ch vrnhq ja cry jaqdfnavy lnfbyc nax qgdf n ghtjcjvnt knvbtnqr wdqc nq fygdktjvnaq enja sdtt vhacfht hs cry ehpyfalyac. ch qcnpy hss crnc hdcvhly, fygdktjvnaq vhdtx sjax crylqytpyq ja cry nmbmnfx ghqjcjha hs nggfhgfjncjae rdey qdlq ch cylghfnfjtz gfhg dg cry hknln ryntcr vnfy tnm, naeyfjae vhaqyfpncjpy phcyfq mrh rnpy kyya xylnaxjae na yax ch cry tnm shf zynfq. ja nahcryf cmjqc, xhantx w. cfdlg’q nxljajqcfncjha, mhffjyx nkhdc gfyqyfpjae yoyvdcjpy kfnavr gfyfhencjpyq, vhdtx vrhhqy ch sjerc jcq fygdktjvna nttjyq ja cry rhdqy ha qhly vyacfnt idyqcjhaq ja cry xjqgdcy. yneyf ch nphjx na detz ghtjcjvnt gjtydg, fygdktjvnaq ha vngjcht rjtt nax cry cfdlg cfnaqjcjha cynl nfy enljae hdc rhm ch rnaxty cry tnmqdjc, mrjvr, nscyf cry ytyvcjha, rnq kyya gdc ja tjlkh dacjt nc tynqc tncy sykfdnfz kz cry dajcyx qcncyq vhdfc hs nggyntq shf cry xjqcfjvc hs vhtdlkjn vjfvdjc. cryz nfy ahc zyc fynxz ch xjpdtey cryjf qcfncyez. “ejpya crnc crjq gyaxjae tjcjencjha japhtpyq cry hknln nxljajqcfncjha nax vhaefyqq, jc mhdtx ky janggfhgfjncy ch vhllyac,” qnjx grjttjg w. ktnaxh, n qghbyqlna shf cry cfdlg cfnaqjcjha ysshfc. “dgha cnbjae hssjvy, cry cfdlg nxljajqcfncjha mjtt ypntdncy crjq vnqy nax ntt fytncyx nqgyvcq hs cry nsshfxnkty vnfy nvc. ” ja n ghcyacjnttz   xyvjqjha ja 2015, wdxey fhqylnfz l. vhttzyf fdtyx crnc rhdqy fygdktjvnaq rnx cry qcnaxjae ch qdy cry yoyvdcjpy kfnavr hpyf n qgyaxjae xjqgdcy nax crnc cry hknln nxljajqcfncjha rnx kyya xjqcfjkdcjae cry ryntcr jaqdfnavy qdkqjxjyq, ja pjhtncjha hs cry vhaqcjcdcjha, mjcrhdc nggfhpnt sfhl vhaefyqq. cry wdqcjvy xygnfclyac, vhasjxyac crnc wdxey vhttzyf’q xyvjqjha mhdtx ky fypyfqyx, idjvbtz nggyntyx, nax cry qdkqjxjyq rnpy fylnjayx ja gtnvy xdfjae cry nggynt. ja qdvvyqqsdttz qyybjae n cylghfnfz rntc ja cry gfhvyyxjaeq nscyf lf. cfdlg mha, rhdqy fygdktjvnaq tnqc lhacr chtx cry vhdfc crnc cryz “nax cry  ’q cfnaqjcjha cynl vdffyactz nfy xjqvdqqjae ghcyacjnt hgcjhaq shf fyqhtdcjha hs crjq lnccyf, ch cnby yssyvc nscyf cry  ’q jandedfncjha ha wna. 20, 2017. ” cry qdqgyaqjha hs cry vnqy, rhdqy tnmzyfq qnjx, mjtt “gfhpjxy cry   nax rjq sdcdfy nxljajqcfncjha cjly ch vhaqjxyf mrycryf ch vhacjady gfhqyvdcjae hf ch hcryfmjqy fyqhtpy crjq nggynt. ” fygdktjvna tynxyfqrjg hssjvjntq ja cry rhdqy nvbahmtyxey cry ghqqjkjtjcz hs “vnqvnxjae yssyvcq” js cry   gnzlyacq, mrjvr rnpy chcntyx na yqcjlncyx $13 kjttjha, nfy qdxxyatz qchggyx. jaqdfyfq crnc fyvyjpy cry qdkqjxjyq ja yovrnaey shf gnzjae    vhqcq qdvr nq xyxdvcjktyq nax   shf ytjejkty vhaqdlyfq vhdtx fnvy ch xfhg vhpyfney qjavy cryz mhdtx ky thqjae lhayz. hpyf ntt, cry thqq hs cry qdkqjxjyq vhdtx xyqcnkjtjuy cry yacjfy gfhefnl nax vndqy n tnvb hs vhasjxyavy crnc tynxq hcryf jaqdfyfq ch qyyb n idjvb yojc nq mytt. nacjvjgncjae crnc cry cfdlg nxljajqcfncjha ljerc ahc ky javtjayx ch lhdac n pjehfhdq sjerc nenjaqc cry rhdqy fygdktjvnaq ejpya cry  ’q xjl pjym hs cry ryntcr vnfy tnm, n cynl hs tnmzyfq crjq lhacr qhderc ch jacyfpyay ja cry vnqy ha kyrnts hs cmh gnfcjvjgnacq ja cry ryntcr vnfy gfhefnl. ja cryjf fyidyqc, cry tnmzyfq gfyxjvcyx crnc n xynt kycmyya rhdqy fygdktjvnaq nax cry aym nxljajqcfncjha ch xjqljqq hf qyccty cry vnqy “mjtt gfhxdvy xypnqcncjae vhaqyidyavyq shf cry jaxjpjxdntq mrh fyvyjpy cryqy fyxdvcjhaq, nq mytt nq shf cry ancjha’q ryntcr jaqdfnavy nax ryntcr vnfy qzqcylq eyayfnttz. ” ah lnccyf mrnc rnggyaq, rhdqy fygdktjvnaq qnz, cryz mnac ch gfypnjt ha cmh hpyfnfvrjae vhavygcq: cry vhaefyqqjhant ghmyf hs cry gdfqy, nax cry fjerc hs vhaefyqq ch qdy cry yoyvdcjpy kfnavr js jc pjhtncyq cry vhaqcjcdcjha fyenfxjae crnc qgyaxjae ghmyf. rhdqy fygdktjvnaq vhacyax crnc vhaefyqq aypyf nggfhgfjncyx cry lhayz shf cry qdkqjxjyq, nq fyidjfyx kz cry vhaqcjcdcjha. ja cry qdjc, mrjvr mnq jajcjnttz vrnlgjhayx kz whra n. khyrayf, cry rhdqy qgynbyf nc cry cjly, nax tncyf ja rhdqy vhlljccyy fyghfcq, fygdktjvnaq nqqyfcyx crnc cry nxljajqcfncjha, xyqgyfncy shf cry sdaxjae, rnx fyidjfyx cry cfynqdfz xygnfclyac ch gfhpjxy jc xyqgjcy mjxyqgfynx jacyfant qbygcjvjql crnc cry qgyaxjae mnq gfhgyf. cry mrjcy rhdqy qnjx crnc cry qgyaxjae mnq n gyflnayac gnfc hs cry tnm gnqqyx ja 2010, nax crnc ah naadnt nggfhgfjncjha mnq fyidjfyx  —   ypya crhder cry nxljajqcfncjha jajcjnttz qhderc hay. wdqc nq jlghfcnac ch rhdqy fygdktjvnaq, wdxey vhttzyf shdax crnc vhaefyqq rnx cry qcnaxjae ch qdy cry mrjcy rhdqy ha crjq jqqdy  —   n fdtjae crnc lnaz tyent yogyfcq qnjx mnq stnmyx  —   nax cryz mnac crnc gfyvyxyac ch ky qyc ch fyqchfy vhaefyqqjhant typyfney hpyf cry yoyvdcjpy kfnavr. kdc ha qgyaxjae ghmyf nax qcnaxjae, cry cfdlg nxljajqcfncjha lnz vhly daxyf gfyqqdfy sfhl nxphvncyq hs gfyqjxyacjnt ndcrhfjcz ch sjerc cry rhdqy ah lnccyf cryjf qrnfyx pjymq ha ryntcr vnfy, qjavy crhqy gfyvyxyacq vhdtx rnpy kfhnx fygyfvdqqjhaq. jc jq n vhlgtjvncyx qyc hs xzanljvq jttdqcfncjae rhm n idjvb tyent pjvchfz shf cry rhdqy ja cry cfdlg yfn ljerc vhly mjcr vhqcq crnc fygdktjvnaq aypyf nacjvjgncyx mrya cryz chhb ha cry hknln mrjcy rhdqy.'"
      ]
     },
     "execution_count": 130,
     "metadata": {},
     "output_type": "execute_result"
    }
   ],
   "source": [
    "doc = cg.Doc(articles[0].lower())\n",
    "mapper = cg.Mapping()\n",
    "mapper.scramble()\n",
    "doc = mapper.translate(doc)\n",
    "doc"
   ]
  },
  {
   "cell_type": "code",
   "execution_count": 131,
   "metadata": {},
   "outputs": [
    {
     "name": "stdout",
     "output_type": "stream",
     "text": [
      "20.1\n",
      "3.49\n",
      "0.607\n",
      "0.105\n",
      "0.0183\n"
     ]
    }
   ],
   "source": [
    "[print(f'{x:0.3g}') for x in np.exp(np.linspace(3, -4, 5))];"
   ]
  },
  {
   "cell_type": "code",
   "execution_count": 165,
   "metadata": {},
   "outputs": [],
   "source": [
    "'''\n",
    "Ideas:\n",
    "> Implement simulated annealing properly (single swap and decision), with a reasonable temp scheduler.\n",
    "  - This works! But need to play with temperature scheduler since results are sensitive to even small changes.\n",
    "> Implement simulated annealing but using softmax and subsetting swap options.\n",
    "> More swaps in the beginning, fewer later.\n",
    "'''\n",
    "\n",
    "solver = cg.Solver(tokenizer, None, 0.1)\n",
    "\n",
    "def simulated_annealing(text, solver, tokenizer, max_epochs=10000, is_debug=True):\n",
    "    best_mapping = mapping = cg.Mapping()\n",
    "    doc = cg.Doc(text)\n",
    "    best_score = solver.score(doc)\n",
    "    epoch = 0\n",
    "    decisions = defaultdict(int)\n",
    "    temps = np.exp(np.linspace(0, -6, 10000))\n",
    "    decisions['good'], decisions['bad_keep'], decisions['bad_pass'] = 0, 0, 0\n",
    "    for temp in tqdm(temps):\n",
    "        # print('*', end='')\n",
    "        improving = False\n",
    "        new_mapping = mapping.random_swap(doc.letters)\n",
    "        new_doc = new_mapping.translate(doc)\n",
    "        score = solver.score(new_doc)\n",
    "        score_change = score - best_score\n",
    "        # if score_change < 0 or exp(-score_change / temp) > uniform(0, 1):\n",
    "        #     print(f'score change: {score_change}')\n",
    "        #     print('updating')\n",
    "        #     best_mapping = mapping\n",
    "        #     best_score = score\n",
    "        if score_change < 0:\n",
    "            # print('updating (improvement)')\n",
    "            best_mapping = new_mapping\n",
    "            best_score = score\n",
    "            decisions['good'] += 1\n",
    "        elif exp(-score_change / temp) > uniform(0, 1):\n",
    "            # Break this out as different section just for debugging.\n",
    "            # print(f'updating (bad change): {score_change}')\n",
    "            best_mapping = new_mapping\n",
    "            best_score = score\n",
    "            decisions['bad_keep'] += 1\n",
    "        else:\n",
    "            decisions['bad_pass'] += 1\n",
    "            # print(f'keeping: {score_change}')\n",
    "        mapping = best_mapping\n",
    "        epoch += 1\n",
    "        if epoch % 1000 == 0:\n",
    "            print(f'{score:0.5g}, {mapping.mapping}, {mapping.translate(doc).text}')\n",
    "            # print(sorted(list(decisions.items())))\n",
    "            print(pd.DataFrame(sorted(list(decisions.items()))))\n",
    "            decisions = defaultdict(int)\n",
    "    print(f'\\nfinal best ({epoch} epochs): {best_score:0.5g}')\n",
    "    return mapping.translate(doc).text"
   ]
  },
  {
   "cell_type": "code",
   "execution_count": 173,
   "metadata": {},
   "outputs": [],
   "source": [
    "import spacy\n",
    "nlp = spacy.load('en')"
   ]
  },
  {
   "cell_type": "code",
   "execution_count": 181,
   "metadata": {},
   "outputs": [
    {
     "data": {
      "text/plain": [
       "'ewi zmiil, rwx kqhilfif ex ewi ewaxli nl 1952, gihkvi ewi rxacf’q   vxlkahw jxccxrnls ewi fikew xj dnls gwmvngxc kfmctkfib xj ewkncklf nl xhexgia.'"
      ]
     },
     "execution_count": 181,
     "metadata": {},
     "output_type": "execute_result"
    }
   ],
   "source": [
    "# text = doc.text\n",
    "# text = 'Rbo rpktigo vcrb bwucja wj kloj hcjd, km sktpqo, cq rbwr loklgo vcgg cjqcqr kj skhcja wgkja wjd rpycja rk ltr rbcjaq cj cr. -- Roppy Lpwrsborr'\n",
    "# text = 'This is the story of a girl. Who cried a river and drowned the whole world. And while she looked so sad in photographs, I absolutely love her when she smiles.'\n",
    "# text = 'Jail zesty vixen who grabbed pay from quack.'\n",
    "# text = \"I've found that when everyone rallies behind a cause, and when they learn their effort can contribute something bigger, they get engaged.\"\n",
    "text = str(random.choice(list(nlp(random.choice(articles)).sents)))\n",
    "doc = cg.Doc(text.lower())\n",
    "mapping = cg.Mapping()\n",
    "mapping.scramble()\n",
    "doc = mapping.translate(doc)\n",
    "doc.text"
   ]
  },
  {
   "cell_type": "code",
   "execution_count": 182,
   "metadata": {},
   "outputs": [
    {
     "name": "stderr",
     "output_type": "stream",
     "text": [
      " 12%|█▏        | 1167/10000 [00:01<00:10, 828.28it/s]"
     ]
    },
    {
     "name": "stdout",
     "output_type": "stream",
     "text": [
      "17.154, yegrxcnuilqkhjftozwsvdmpba, bsi rwiij, dse lkmijoio be bsi bszeji gj 1952, cimlui bsi dezfo’k   uejlzms neffedgjt bsi oilbs en vgjt cswugcef lowfploiy en bslgfljo gj embeciz.\n",
      "          0    1\n",
      "0  bad_keep  415\n",
      "1  bad_pass  185\n",
      "2      good  400\n"
     ]
    },
    {
     "name": "stderr",
     "output_type": "stream",
     "text": [
      " 21%|██        | 2099/10000 [00:02<00:09, 819.74it/s]"
     ]
    },
    {
     "name": "stdout",
     "output_type": "stream",
     "text": [
      "13.876, evcnlpuoxbharyqfjimkwzsdtg, aur vsrre, mui tokreprp ai aur aulier de 1952, zrktbr aur milcp’o   bietlku qiccimdew aur prtau iq xdew zusbdzic tpscytprj iq autdctep de ikaizrl.\n",
      "          0    1\n",
      "0  bad_keep  348\n",
      "1  bad_pass  293\n",
      "2      good  359\n"
     ]
    },
    {
     "name": "stderr",
     "output_type": "stream",
     "text": [
      " 31%|███       | 3104/10000 [00:03<00:08, 820.07it/s]"
     ]
    },
    {
     "name": "stdout",
     "output_type": "stream",
     "text": [
      "12.733, cbkoxjzewtvqpgnaslimhufyrd, his gtssr, yie clusrwsw he his hipers or 1952, nsucks his yepaw’l   kercpui feaaeyorq his wschi ef zorq nitkonea cwtajcwsb ef hicoacrw or euhensp.\n",
      "          0    1\n",
      "0  bad_keep  258\n",
      "1  bad_pass  445\n",
      "2      good  297\n"
     ]
    },
    {
     "name": "stderr",
     "output_type": "stream",
     "text": [
      " 41%|████▏     | 4125/10000 [00:05<00:07, 822.69it/s]"
     ]
    },
    {
     "name": "stdout",
     "output_type": "stream",
     "text": [
      "12.236, kvfcisawxpuntjlhomegqdzrby, she wreeo, xhi aupeocec si she shgioe lo 1952, tepabe she xigdc’u   bioagph niddixlof she ceash in vlof thrbltid acrdmacey in shaldaoc lo ipsiteg.\n",
      "          0    1\n",
      "0  bad_keep  184\n",
      "1  bad_pass  630\n",
      "2      good  186\n"
     ]
    },
    {
     "name": "stderr",
     "output_type": "stream",
     "text": [
      " 51%|█████     | 5113/10000 [00:06<00:05, 815.00it/s]"
     ]
    },
    {
     "name": "stdout",
     "output_type": "stream",
     "text": [
      "9.9607, ktvfijswnyucqlxhzagemdrpob, the queen, who ampended to the throne in 1952, sepace the world’m   conarph following the death of ving shucisol adulbadez of thailand in optoser.\n",
      "          0    1\n",
      "0  bad_keep   79\n",
      "1  bad_pass  827\n",
      "2      good   94\n"
     ]
    },
    {
     "name": "stderr",
     "output_type": "stream",
     "text": [
      " 61%|██████    | 6115/10000 [00:07<00:04, 814.35it/s]"
     ]
    },
    {
     "name": "stdout",
     "output_type": "stream",
     "text": [
      "10.893, kvgfijswnyucqlxbzahemdrotp, the queen, who amsended to the throne in 1952, cesabe the world’m   bonarsh following the death of ving chubicol adulyadep of thailand in ostocer.\n",
      "          0    1\n",
      "0  bad_keep   20\n",
      "1  bad_pass  954\n",
      "2      good   26\n"
     ]
    },
    {
     "name": "stderr",
     "output_type": "stream",
     "text": [
      " 71%|███████   | 7123/10000 [00:08<00:03, 815.70it/s]"
     ]
    },
    {
     "name": "stdout",
     "output_type": "stream",
     "text": [
      "9.6738, kghfijswnydcvlxzuaqemtrobp, the pueen, who ascended to the throne in 1952, became the world’s   monarch following the death of king bhumibol adulvadey of thailand in october.\n",
      "          0    1\n",
      "0  bad_keep   10\n",
      "1  bad_pass  981\n",
      "2      good    9\n"
     ]
    },
    {
     "name": "stderr",
     "output_type": "stream",
     "text": [
      " 81%|████████▏ | 8138/10000 [00:09<00:02, 816.20it/s]"
     ]
    },
    {
     "name": "stdout",
     "output_type": "stream",
     "text": [
      "10.775, kghfijswnydcvlxzuaqemtrbop, the pueen, who ascended to the throne in 1952, became the world’s   monarch following the death of king bhumibol adulvadex of thailand in october.\n",
      "          0    1\n",
      "0  bad_keep    3\n",
      "1  bad_pass  995\n",
      "2      good    2\n"
     ]
    },
    {
     "name": "stderr",
     "output_type": "stream",
     "text": [
      " 91%|█████████ | 9120/10000 [00:11<00:01, 812.72it/s]"
     ]
    },
    {
     "name": "stdout",
     "output_type": "stream",
     "text": [
      "11.287, kghfijswnydcvlxtzaqemurbop, the queen, who ascended to the throne in 1952, became the world’s   monarch following the death of king bhumibol adulpadex of thailand in october.\n",
      "          0    1\n",
      "0  bad_pass  998\n",
      "1      good    2\n"
     ]
    },
    {
     "name": "stderr",
     "output_type": "stream",
     "text": [
      "100%|██████████| 10000/10000 [00:12<00:00, 812.81it/s]"
     ]
    },
    {
     "name": "stdout",
     "output_type": "stream",
     "text": [
      "9.8184, kghfijswnydcvlxbzaqemurotp, the queen, who ascended to the throne in 1952, became the world’s   monarch following the death of king bhumibol adulyadep of thailand in october.\n",
      "          0    1\n",
      "0  bad_pass  998\n",
      "1      good    2\n",
      "\n",
      "final best (10000 epochs): 9.5236\n",
      "the queen, who ascended to the throne in 1952, became the world’s   monarch following the death of king bhumibol adulyadep of thailand in october.\n"
     ]
    },
    {
     "name": "stderr",
     "output_type": "stream",
     "text": [
      "\n"
     ]
    }
   ],
   "source": [
    "text = simulated_annealing(doc.text, solver, tokenizer)\n",
    "print(text)"
   ]
  },
  {
   "cell_type": "code",
   "execution_count": null,
   "metadata": {},
   "outputs": [],
   "source": []
  }
 ],
 "metadata": {
  "kernelspec": {
   "display_name": "Python 3",
   "language": "python",
   "name": "python3"
  },
  "language_info": {
   "codemirror_mode": {
    "name": "ipython",
    "version": 3
   },
   "file_extension": ".py",
   "mimetype": "text/x-python",
   "name": "python",
   "nbconvert_exporter": "python",
   "pygments_lexer": "ipython3",
   "version": "3.6.3"
  }
 },
 "nbformat": 4,
 "nbformat_minor": 2
}
