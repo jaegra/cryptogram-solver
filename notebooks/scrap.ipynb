{
 "cells": [
  {
   "cell_type": "code",
   "execution_count": 1,
   "metadata": {},
   "outputs": [
    {
     "data": {
      "text/plain": [
       "<module 'crypto' from '/Users/chris/Documents/cryptogram-solver/src/crypto.py'>"
      ]
     },
     "execution_count": 1,
     "metadata": {},
     "output_type": "execute_result"
    }
   ],
   "source": [
    "from collections import defaultdict, namedtuple\n",
    "from importlib import reload\n",
    "from pathlib import Path\n",
    "import sys\n",
    "\n",
    "from sklearn.datasets import fetch_20newsgroups\n",
    "\n",
    "sys.path.insert(0, str(Path.cwd().parents[0] / 'src')) \n",
    "import crypto as cg; reload(cg)"
   ]
  },
  {
   "cell_type": "code",
   "execution_count": 81,
   "metadata": {},
   "outputs": [],
   "source": [
    "news_train = fetch_20newsgroups(subset='train', shuffle=True, random_state=20180827)\n",
    "news_test = fetch_20newsgroups(subset='test', shuffle=True, random_state=20180827)"
   ]
  },
  {
   "cell_type": "code",
   "execution_count": 82,
   "metadata": {},
   "outputs": [
    {
     "name": "stderr",
     "output_type": "stream",
     "text": [
      "100%|██████████| 250/250 [00:04<00:00, 54.88it/s]\n"
     ]
    },
    {
     "name": "stdout",
     "output_type": "stream",
     "text": [
      "85485\n",
      "defaultdict(<class 'int'>, {(<NgramKind.word: 0>, 1): 82631, (<NgramKind.char: 1>, 1): 467854, (<NgramKind.char: 1>, 2): 396195, (<NgramKind.char: 1>, 3): 329212, (<NgramKind.char: 1>, 4): 268452, (<NgramKind.char: 1>, 5): 208407, (<NgramKind.char: 1>, 6): 153166})\n"
     ]
    }
   ],
   "source": [
    "reload(cg)\n",
    "tokenizer = cg.Tokenizer(char_ngram_range=(1, 6), word_ngram_range=(1, 1), vocab_size=1000000)\n",
    "tokenizer.fit(news_train['data'][:250])\n",
    "print(len(tokenizer.vocab))\n",
    "print(tokenizer.totals)"
   ]
  },
  {
   "cell_type": "code",
   "execution_count": 8,
   "metadata": {},
   "outputs": [
    {
     "data": {
      "text/plain": [
       "'from: ez027993@dale.ucdavis.edu (gary built like villanueva huckabay)\\nsubject: ron gant, stalling, and hirschbeck.\\norganization: julio machado candlelight vigil society\\nlines: 88\\n\\n(dale \"seer\" stephenson) writes:\\n>while i can see why they want to cut down on the time spent walking around,\\n>gant wasn\\'t ordered back in the box \"sooner\", he was ordered back immediately.\\n>as soon as he stepped out, hirschbeck told him to get back in the box.\\n>now, gant doesn\\'t take a lot of walks between pitches.  the only reason\\n>he did then because he was *very* bothered by the call.  i expect his\\n>concentration wasn\\'t there yet, and in a crucial situation i imagine it\\'s\\n>best to be as calm as possible.  contributing factors would be gant\\'s\\n>bad day at the plate, bad year at the plate, and the braves long scoring\\n>drought.\\n\\nand it is not hirschbeck\\'s job to help gant with any of these difficulties.\\nif gant can\\'t gather his concentration for whatever reason, that just makes\\nhim all the more meat in the batter\\'s box.  the umpire\\'s job is to \\nmaintain flow of play.  gant is not entitled to time to regather his\\nfaculties.\\n\\nnor is anyone else.\\n\\n>now, it\\'s pretty stupid to go ahead and talk the walk when the umpire is\\n>telling you to get in there.  you know the umpire is going to do something\\n>(call for a strike, throw you out, etc.).  gant was wrong.\\n\\nabsolutely.  i think it\\'d be more accurate to say gant was foolish.\\n\\n>but hirschbeck was more wrong, in my biased view.  aside from the major chip\\n>he seemed to have on his shoulder, what was the problem.  gant had a reason\\n>to want some time (disputed strike call).  \\n\\nif a disputed strike call is ample reason for a timeout, games would last\\nabout nine-fifteen weeks, if jack morris or dave \"whiner\" stieb were\\npitching.  a disputed strike call is not sufficient for a time out.\\nsuck it up, get back in the box, and never badmouth the blue.  they\\'re\\nnot going to change their mind, and you\\'re just going to come across\\nas a pinhead, which won\\'t help you with the borderline calls.\\n\\nftr - i never speak to umpires when i don\\'t know them personally, nor\\ndo i glance at them, or react to calls.  as a result, i think i get more\\nthan my fair share of borderline calls at the plate, because i have a\\nrep of having a good eye.  (actually, there are a lot of negative\\nconnotations that go with that rep, including copious questions about\\nmy masculinity, party affiliation, and sexual preference.)\\n\\n>gant hadn\\'t been wasting time all\\n>game.  the game had been cruising along, and was just over two hours old.\\n\\nirrelevant.  he was wasting time then.\\n\\n>the score was 1-0, with 2 outs in the ninth and a runner in scoring position.\\n>is there *any* reason hirschbeck couldn\\'t, and shouldn\\'t, cut gant a little\\n>slack?  \\n\\n1.  because it\\'s not his job.\\n\\n2.  because setting the precedent of cutting slack there can easily \\n    extend to those 3 hour games.  (kind of like the phantom dp.)\\n\\n>for no discernible constructive reason, hirschbeck disrupted the\\n>game, caused a five minute delay, and materially hurt the batter in a key\\n>situation.  did he have a date to get to?\\n\\ngant hurt himself, and the braves disrupted the game.  your biases are\\nexposed, and i\\'m sitting here defending umpires and the sf giants,\\nwhich is like phyllis schlafly defending gary segura, jack kevorkian,\\nand the swedish abortion team.  \\n\\n>and i still wonder why terry was tossed earlier in the game.\\n\\ni believe terry said the magic word.  there are some truly quick ways\\nto get tossed from a ballgame.  for a primer, email me.\\n\\ngood ways to get tossed from a game:\\n\\n1.  ask ken kaiser if he got his money back from nutri-system.\\n2.  kiss rich garcia on the lips, and say \"hi, honey, i\\'m home!\"\\n3.  goose eric gregg.\\n4.  ask bruce froemming if his parents had any children that lived.\\n5.  get naked.\\n\\n(source: the greg spira book of diamond ettiquette, as told to\\n peter gammons.  1991, collier press.)\\n\\n\\n-- \\n*   gary huckabay   * \"outside?!  that was right down the bleedin\\' pipe, *\\n* \"balder than any  *  kenny!  i realize i don\\'t have great control, but *\\n*  dave on the net. *  c\\'mon!\"  \"gary, that was a styrofoam cup.  the    *\\n*      really.\"     *  plate\\'s a foot to your right.  throw the ball.\"   *\\n'"
      ]
     },
     "execution_count": 8,
     "metadata": {},
     "output_type": "execute_result"
    }
   ],
   "source": [
    "doc2 = cg.Doc(news_test['data'][10])\n",
    "# doc2 = prep.Doc(doc2.swap('a', 'b'))\n",
    "# doc2.scramble(15)\n",
    "doc2.text"
   ]
  },
  {
   "cell_type": "code",
   "execution_count": 26,
   "metadata": {},
   "outputs": [],
   "source": [
    "import re"
   ]
  },
  {
   "cell_type": "code",
   "execution_count": 42,
   "metadata": {},
   "outputs": [
    {
     "data": {
      "text/plain": [
       "8"
      ]
     },
     "execution_count": 42,
     "metadata": {},
     "output_type": "execute_result"
    }
   ],
   "source": [
    "'4536271809'.index('0')\n",
    "'4536271809'.index('5')"
   ]
  },
  {
   "cell_type": "code",
   "execution_count": 70,
   "metadata": {},
   "outputs": [],
   "source": [
    "del letters"
   ]
  },
  {
   "cell_type": "code",
   "execution_count": null,
   "metadata": {},
   "outputs": [],
   "source": []
  },
  {
   "cell_type": "code",
   "execution_count": null,
   "metadata": {},
   "outputs": [],
   "source": []
  },
  {
   "cell_type": "code",
   "execution_count": null,
   "metadata": {},
   "outputs": [],
   "source": [
    "for idx in idx1:\n",
    "    "
   ]
  },
  {
   "cell_type": "code",
   "execution_count": 20,
   "metadata": {},
   "outputs": [],
   "source": [
    "def solve_cryptogram(text, tokenizer, max_epochs=50, is_debug=True):\n",
    "    doc = cg.Doc(text)\n",
    "    best_nll = tokenizer.calc_nll(doc.text)\n",
    "    best_swap = ('a', 'a')\n",
    "    epoch = 0\n",
    "    improving = True\n",
    "    while improving and epoch < max_epochs:\n",
    "        improving = False\n",
    "        print('*', end='')\n",
    "        seen = set()\n",
    "        for letter1 in doc.letters:\n",
    "            for letter2 in LETTERS - set(letter1):\n",
    "                swap = tuple(sorted([letter1, letter2]))\n",
    "                if swap in seen:\n",
    "                    continue\n",
    "                seen.add(swap)\n",
    "                new_text = doc.swap(*swap)\n",
    "                nll = tokenizer.calc_nll(new_text)\n",
    "                if nll < best_nll:\n",
    "                    best_swap = swap\n",
    "                    best_nll = nll\n",
    "                    improving = True\n",
    "        doc = cg.Doc(doc.swap(*best_swap))\n",
    "        epoch += 1\n",
    "        print(f'{doc.text}')\n",
    "        print(f'best of epoch: {best_nll:0.5g}')\n",
    "    print(f'\\nfinal best ({epoch} epochs): {best_nll:0.5g}')\n",
    "    return doc.text"
   ]
  },
  {
   "cell_type": "code",
   "execution_count": 21,
   "metadata": {},
   "outputs": [
    {
     "data": {
      "text/plain": [
       "'toyb yb tol btvan ve k wyap. iov caylj k aymla kgj javiglj tol iovpl ivapj. kgj ioypl bol pvvxlj bv bkj yg fovtvwakfob, y kdbvputlpn pvmlj ola iolg bol bsyplj.'"
      ]
     },
     "execution_count": 21,
     "metadata": {},
     "output_type": "execute_result"
    }
   ],
   "source": [
    "text = doc2.text\n",
    "text = 'Rbo rpktigo vcrb bwucja wj kloj hcjd, km sktpqo, cq rbwr loklgo vcgg cjqcqr kj skhcja wgkja wjd rpycja rk ltr rbcjaq cj cr. -- Roppy Lpwrsborr'\n",
    "text = 'This is the story of a girl. Who cried a river and drowned the whole world. And while she looked so sad in photographs, I absolutely loved her when she smiled.'\n",
    "doc = cg.Doc(text)\n",
    "doc.scramble(25)\n",
    "doc.text"
   ]
  },
  {
   "cell_type": "code",
   "execution_count": 22,
   "metadata": {},
   "outputs": [
    {
     "name": "stdout",
     "output_type": "stream",
     "text": [
      "*toyb yb tol btran re k wyap. ior caylj k aymla kgj jariglj tol iorpl irapj. kgj ioypl bol prrxlj br bkj yg fortrwakfob, y kdbrputlpn prmlj ola iolg bol bsyplj.\n",
      "best of epoch: 23.687\n",
      "*toyb yb tol btran rj k wyap. ior cayle k aymla kge earigle tol iorpl irape. kge ioypl bol prrxle br bke yg fortrwakfob, y kdbrputlpn prmle ola iolg bol bsyple.\n",
      "best of epoch: 23.076\n",
      "*tomb mb tol btran rj k wmap. ior camle k amyla kge earigle tol iorpl irape. kge iompl bol prrxle br bke mg fortrwakfob, m kdbrputlpn pryle ola iolg bol bsmple.\n",
      "best of epoch: 22.628\n",
      "*toms ms tol stran rj k wmap. ior camle k amyla kge earigle tol iorpl irape. kge iompl sol prrxle sr ske mg fortrwakfos, m kdsrputlpn pryle ola iolg sol sbmple.\n",
      "best of epoch: 22.308\n",
      "*toms ms tol stran rj k wmap. gor camle k amyla kie eargile tol gorpl grape. kie gompl sol prrxle sr ske mi fortrwakfos, m kdsrputlpn pryle ola goli sol sbmple.\n",
      "best of epoch: 22.058\n",
      "*toms ms tol stran rj k wmap. cor gamle k amyla kie earcile tol corpl crape. kie compl sol prrxle sr ske mi fortrwakfos, m kdsrputlpn pryle ola coli sol sbmple.\n",
      "best of epoch: 21.822\n",
      "*toms ms tol stran rj h wmap. cor gamle h amyla hie earcile tol corpl crape. hie compl sol prrxle sr she mi fortrwahfos, m hdsrputlpn pryle ola coli sol sbmple.\n",
      "best of epoch: 21.651\n",
      "*toms ms tol stran rj h wmap. cor gamle h ambla hie earcile tol corpl crape. hie compl sol prrxle sr she mi fortrwahfos, m hdsrputlpn prble ola coli sol symple.\n",
      "best of epoch: 21.491\n",
      "*toms ms tol stran rk h wmap. cor gamle h ambla hie earcile tol corpl crape. hie compl sol prrxle sr she mi fortrwahfos, m hdsrputlpn prble ola coli sol symple.\n",
      "best of epoch: 21.416\n",
      "*toms ms tol stran rk h wmap. cor gamle h ambla hye earcyle tol corpl crape. hye compl sol prrxle sr she my fortrwahfos, m hdsrputlpn prble ola coly sol simple.\n",
      "best of epoch: 21.351\n",
      "*toms ms tol stran rk h wmap. cor gamle h ambla hde earcdle tol corpl crape. hde compl sol prrxle sr she md fortrwahfos, m hysrputlpn prble ola cold sol simple.\n",
      "best of epoch: 21.297\n",
      "*toms ms tol stran rk h wmap. cor gamle h ambla hde earcdle tol corpl crape. hde compl sol prrule sr she md fortrwahfos, m hysrpxtlpn prble ola cold sol simple.\n",
      "best of epoch: 21.251\n",
      "*toms ms tol strah rk n wmap. cor gamle n ambla nde earcdle tol corpl crape. nde compl sol prrule sr sne md fortrwanfos, m nysrpxtlph prble ola cold sol simple.\n",
      "best of epoch: 21.225\n",
      "*toms ms tol strah rk n gmap. cor wamle n ambla nde earcdle tol corpl crape. nde compl sol prrule sr sne md fortrganfos, m nysrpxtlph prble ola cold sol simple.\n",
      "best of epoch: 21.179\n",
      "*toms ms tol strah ry n gmap. cor wamle n ambla nde earcdle tol corpl crape. nde compl sol prrule sr sne md fortrganfos, m nksrpxtlph prble ola cold sol simple.\n",
      "best of epoch: 21.17\n",
      "*toms ms tol strah rk n gmap. cor wamle n ambla nde earcdle tol corpl crape. nde compl sol prrule sr sne md fortrganfos, m nysrpxtlph prble ola cold sol simple.\n",
      "best of epoch: 21.17\n",
      "\n",
      "final best (16 epochs): 21.17\n",
      "toms ms tol strah rk n gmap. cor wamle n ambla nde earcdle tol corpl crape. nde compl sol prrule sr sne md fortrganfos, m nysrpxtlph prble ola cold sol simple.\n"
     ]
    }
   ],
   "source": [
    "# text, options = solve_cryptogram(doc.text, tokenizer)\n",
    "text = solve_cryptogram(doc.text, tokenizer)\n",
    "print(text)"
   ]
  },
  {
   "cell_type": "code",
   "execution_count": 517,
   "metadata": {},
   "outputs": [],
   "source": [
    "from collections import Counter"
   ]
  },
  {
   "cell_type": "code",
   "execution_count": 518,
   "metadata": {},
   "outputs": [
    {
     "data": {
      "text/plain": [
       "Counter({'a': 1, 'b': 1, 'c': 2})"
      ]
     },
     "execution_count": 518,
     "metadata": {},
     "output_type": "execute_result"
    }
   ],
   "source": [
    "Counter(['a', 'b', 'c', 'c'])"
   ]
  },
  {
   "cell_type": "code",
   "execution_count": 23,
   "metadata": {},
   "outputs": [
    {
     "ename": "NameError",
     "evalue": "name 'options' is not defined",
     "output_type": "error",
     "traceback": [
      "\u001b[0;31m---------------------------------------------------------------------------\u001b[0m",
      "\u001b[0;31mNameError\u001b[0m                                 Traceback (most recent call last)",
      "\u001b[0;32m<ipython-input-23-62550e78b00d>\u001b[0m in \u001b[0;36m<module>\u001b[0;34m()\u001b[0m\n\u001b[1;32m      8\u001b[0m \u001b[0;34m\u001b[0m\u001b[0m\n\u001b[1;32m      9\u001b[0m \u001b[0;31m# options = {'a': 1, 'b': 2}\u001b[0m\u001b[0;34m\u001b[0m\u001b[0;34m\u001b[0m\u001b[0m\n\u001b[0;32m---> 10\u001b[0;31m \u001b[0msoftmax\u001b[0m\u001b[0;34m(\u001b[0m\u001b[0moptions\u001b[0m\u001b[0;34m,\u001b[0m \u001b[0mtemp\u001b[0m\u001b[0;34m=\u001b[0m\u001b[0;36m0.05\u001b[0m\u001b[0;34m)\u001b[0m\u001b[0;34m\u001b[0m\u001b[0m\n\u001b[0m",
      "\u001b[0;31mNameError\u001b[0m: name 'options' is not defined"
     ]
    }
   ],
   "source": [
    "def softmax(options, temp=1):\n",
    "    nums = [exp(x / temp) for x in options.values()]\n",
    "    denom = sum(nums)\n",
    "    choice_probs = [x / denom for x in nums]\n",
    "    choice = random.choices(list(options.keys()), weights=choice_probs)[0]\n",
    "    return choice\n",
    "\n",
    "\n",
    "# options = {'a': 1, 'b': 2}\n",
    "softmax(options, temp=0.05)"
   ]
  },
  {
   "cell_type": "code",
   "execution_count": 1775,
   "metadata": {},
   "outputs": [
    {
     "name": "stdout",
     "output_type": "stream",
     "text": [
      "[4.5397868702434395e-05, 0.9999546021312976]\n"
     ]
    },
    {
     "data": {
      "text/plain": [
       "'b'"
      ]
     },
     "execution_count": 1775,
     "metadata": {},
     "output_type": "execute_result"
    }
   ],
   "source": [
    "softmax(options)"
   ]
  }
 ],
 "metadata": {
  "kernelspec": {
   "display_name": "Python 3",
   "language": "python",
   "name": "python3"
  },
  "language_info": {
   "codemirror_mode": {
    "name": "ipython",
    "version": 3
   },
   "file_extension": ".py",
   "mimetype": "text/x-python",
   "name": "python",
   "nbconvert_exporter": "python",
   "pygments_lexer": "ipython3",
   "version": "3.6.3"
  }
 },
 "nbformat": 4,
 "nbformat_minor": 2
}
