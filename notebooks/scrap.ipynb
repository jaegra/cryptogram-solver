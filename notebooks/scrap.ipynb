{
 "cells": [
  {
   "cell_type": "code",
   "execution_count": 3,
   "metadata": {},
   "outputs": [
    {
     "data": {
      "text/plain": [
       "<module 'crypto' from '/Users/chris/Documents/cryptogram-solver/src/crypto.py'>"
      ]
     },
     "execution_count": 3,
     "metadata": {},
     "output_type": "execute_result"
    }
   ],
   "source": [
    "from collections import defaultdict, namedtuple\n",
    "from importlib import reload\n",
    "from pathlib import Path\n",
    "import sys\n",
    "from string import ascii_lowercase as LETTERS\n",
    "\n",
    "from sklearn.datasets import fetch_20newsgroups\n",
    "\n",
    "sys.path.insert(0, str(Path.cwd().parents[0] / 'src')) \n",
    "import crypto as cg; reload(cg)"
   ]
  },
  {
   "cell_type": "code",
   "execution_count": 4,
   "metadata": {},
   "outputs": [],
   "source": [
    "news_train = fetch_20newsgroups(subset='train', shuffle=True, random_state=20180827)\n",
    "news_test = fetch_20newsgroups(subset='test', shuffle=True, random_state=20180827)"
   ]
  },
  {
   "cell_type": "code",
   "execution_count": 5,
   "metadata": {},
   "outputs": [
    {
     "name": "stderr",
     "output_type": "stream",
     "text": [
      "100%|██████████| 500/500 [00:08<00:00, 58.49it/s]\n"
     ]
    },
    {
     "name": "stdout",
     "output_type": "stream",
     "text": [
      "100000\n",
      "defaultdict(<class 'int'>, {(<NgramKind.word: 0>, 1): 150083, (<NgramKind.char: 1>, 1): 873873, (<NgramKind.char: 1>, 2): 739749, (<NgramKind.char: 1>, 3): 611312, (<NgramKind.char: 1>, 4): 492479, (<NgramKind.char: 1>, 5): 378646, (<NgramKind.char: 1>, 6): 276700})\n"
     ]
    }
   ],
   "source": [
    "reload(cg)\n",
    "tokenizer = cg.Tokenizer(char_ngram_range=(1, 6), word_ngram_range=(1, 1), vocab_size=100000)\n",
    "tokenizer.fit(news_train['data'][:500])\n",
    "print(len(tokenizer.vocab))\n",
    "print(tokenizer.totals)"
   ]
  },
  {
   "cell_type": "code",
   "execution_count": 6,
   "metadata": {},
   "outputs": [
    {
     "data": {
      "text/plain": [
       "'from: ez027993@dale.ucdavis.edu (gary built like villanueva huckabay)\\nsubject: ron gant, stalling, and hirschbeck.\\norganization: julio machado candlelight vigil society\\nlines: 88\\n\\n(dale \"seer\" stephenson) writes:\\n>while i can see why they want to cut down on the time spent walking around,\\n>gant wasn\\'t ordered back in the box \"sooner\", he was ordered back immediately.\\n>as soon as he stepped out, hirschbeck told him to get back in the box.\\n>now, gant doesn\\'t take a lot of walks between pitches.  the only reason\\n>he did then because he was *very* bothered by the call.  i expect his\\n>concentration wasn\\'t there yet, and in a crucial situation i imagine it\\'s\\n>best to be as calm as possible.  contributing factors would be gant\\'s\\n>bad day at the plate, bad year at the plate, and the braves long scoring\\n>drought.\\n\\nand it is not hirschbeck\\'s job to help gant with any of these difficulties.\\nif gant can\\'t gather his concentration for whatever reason, that just makes\\nhim all the more meat in the batter\\'s box.  the umpire\\'s job is to \\nmaintain flow of play.  gant is not entitled to time to regather his\\nfaculties.\\n\\nnor is anyone else.\\n\\n>now, it\\'s pretty stupid to go ahead and talk the walk when the umpire is\\n>telling you to get in there.  you know the umpire is going to do something\\n>(call for a strike, throw you out, etc.).  gant was wrong.\\n\\nabsolutely.  i think it\\'d be more accurate to say gant was foolish.\\n\\n>but hirschbeck was more wrong, in my biased view.  aside from the major chip\\n>he seemed to have on his shoulder, what was the problem.  gant had a reason\\n>to want some time (disputed strike call).  \\n\\nif a disputed strike call is ample reason for a timeout, games would last\\nabout nine-fifteen weeks, if jack morris or dave \"whiner\" stieb were\\npitching.  a disputed strike call is not sufficient for a time out.\\nsuck it up, get back in the box, and never badmouth the blue.  they\\'re\\nnot going to change their mind, and you\\'re just going to come across\\nas a pinhead, which won\\'t help you with the borderline calls.\\n\\nftr - i never speak to umpires when i don\\'t know them personally, nor\\ndo i glance at them, or react to calls.  as a result, i think i get more\\nthan my fair share of borderline calls at the plate, because i have a\\nrep of having a good eye.  (actually, there are a lot of negative\\nconnotations that go with that rep, including copious questions about\\nmy masculinity, party affiliation, and sexual preference.)\\n\\n>gant hadn\\'t been wasting time all\\n>game.  the game had been cruising along, and was just over two hours old.\\n\\nirrelevant.  he was wasting time then.\\n\\n>the score was 1-0, with 2 outs in the ninth and a runner in scoring position.\\n>is there *any* reason hirschbeck couldn\\'t, and shouldn\\'t, cut gant a little\\n>slack?  \\n\\n1.  because it\\'s not his job.\\n\\n2.  because setting the precedent of cutting slack there can easily \\n    extend to those 3 hour games.  (kind of like the phantom dp.)\\n\\n>for no discernible constructive reason, hirschbeck disrupted the\\n>game, caused a five minute delay, and materially hurt the batter in a key\\n>situation.  did he have a date to get to?\\n\\ngant hurt himself, and the braves disrupted the game.  your biases are\\nexposed, and i\\'m sitting here defending umpires and the sf giants,\\nwhich is like phyllis schlafly defending gary segura, jack kevorkian,\\nand the swedish abortion team.  \\n\\n>and i still wonder why terry was tossed earlier in the game.\\n\\ni believe terry said the magic word.  there are some truly quick ways\\nto get tossed from a ballgame.  for a primer, email me.\\n\\ngood ways to get tossed from a game:\\n\\n1.  ask ken kaiser if he got his money back from nutri-system.\\n2.  kiss rich garcia on the lips, and say \"hi, honey, i\\'m home!\"\\n3.  goose eric gregg.\\n4.  ask bruce froemming if his parents had any children that lived.\\n5.  get naked.\\n\\n(source: the greg spira book of diamond ettiquette, as told to\\n peter gammons.  1991, collier press.)\\n\\n\\n-- \\n*   gary huckabay   * \"outside?!  that was right down the bleedin\\' pipe, *\\n* \"balder than any  *  kenny!  i realize i don\\'t have great control, but *\\n*  dave on the net. *  c\\'mon!\"  \"gary, that was a styrofoam cup.  the    *\\n*      really.\"     *  plate\\'s a foot to your right.  throw the ball.\"   *\\n'"
      ]
     },
     "execution_count": 6,
     "metadata": {},
     "output_type": "execute_result"
    }
   ],
   "source": [
    "doc2 = cg.Doc(news_test['data'][10])\n",
    "# doc2 = prep.Doc(doc2.swap('a', 'b'))\n",
    "# doc2.scramble(15)\n",
    "doc2.text"
   ]
  },
  {
   "cell_type": "code",
   "execution_count": 9,
   "metadata": {},
   "outputs": [],
   "source": [
    "from random import sample\n",
    "import numpy as np"
   ]
  },
  {
   "cell_type": "code",
   "execution_count": 15,
   "metadata": {},
   "outputs": [],
   "source": [
    "class Solver:\n",
    "    def __init__(self, tokenizer, doc):\n",
    "        self.tokenizer = tokenizer\n",
    "        self.doc = doc\n",
    "\n",
    "    def calc_nll(self, text):\n",
    "        \"\"\"Caluclate mean negative log likelihood.\"\"\"\n",
    "        tokens = self.tokenizer.tokenize(text)\n",
    "        nll = 0\n",
    "        for token, count in tokens.items():\n",
    "            try:\n",
    "                vocab_count = self.tokenizer.vocab[token]\n",
    "            except KeyError:\n",
    "                vocab_count = self.tokenizer.pseudo_count\n",
    "            total = self.tokenizer.totals[(token.kind, token.n)]  # could break\n",
    "            prob = vocab_count / total\n",
    "            nll += -1 * log(prob) * count\n",
    "        return nll / len(tokens)  # take mean\n",
    "    \n",
    "    def softmax(x, temp=1):\n",
    "        return np.exp(x / temp) / np.sum(np.exp(x / temp), axis=0)"
   ]
  },
  {
   "cell_type": "code",
   "execution_count": 21,
   "metadata": {},
   "outputs": [
    {
     "data": {
      "text/plain": [
       "array([  4.37804039e-05,   1.22723586e-03,   3.44014153e-02,\n",
       "         9.64327568e-01])"
      ]
     },
     "execution_count": 21,
     "metadata": {},
     "output_type": "execute_result"
    }
   ],
   "source": [
    "Solver.softmax(np.array([2, 3, 4, 5]), 0.3)"
   ]
  },
  {
   "cell_type": "code",
   "execution_count": 22,
   "metadata": {},
   "outputs": [],
   "source": [
    "from scipy.optimize import basinhopping"
   ]
  },
  {
   "cell_type": "code",
   "execution_count": null,
   "metadata": {},
   "outputs": [],
   "source": [
    "basinhopping()"
   ]
  },
  {
   "cell_type": "code",
   "execution_count": 107,
   "metadata": {},
   "outputs": [],
   "source": [
    "def solve_cryptogram(text, tokenizer, max_epochs=50, is_debug=True):\n",
    "    mapping = Mapping()\n",
    "    doc = cg.Doc(text)\n",
    "    best_nll = tokenizer.calc_nll(doc.text)\n",
    "    best_swap = ('a', 'a')\n",
    "    epoch = 0\n",
    "    improving = True\n",
    "    while improving and epoch < max_epochs:\n",
    "        improving = False\n",
    "        print('*', end='')\n",
    "        seen = set()\n",
    "        doc_letters = get_letters(doc.translate())\n",
    "        for l1 in doc_letters:\n",
    "            for l2 in letters_set - set(l1):\n",
    "                swap = tuple(sorted([l1, l2]))\n",
    "                if swap in seen:\n",
    "                    continue\n",
    "                seen.add(swap)\n",
    "                doc.swap(*swap)\n",
    "                nll = tokenizer.calc_nll(doc.translate())\n",
    "                if nll < best_nll:\n",
    "                    best_swap = swap\n",
    "                    best_nll = nll\n",
    "                    improving = True\n",
    "        mapping = cg.Doc(doc.swap(*best_swap))\n",
    "        epoch += 1\n",
    "        print(f'{doc.text}')\n",
    "        print(f'best of epoch: {best_nll:0.5g}')\n",
    "    print(f'\\nfinal best ({epoch} epochs): {best_nll:0.5g}')\n",
    "    doc.mapping = mapping\n",
    "    return doc.translate()"
   ]
  },
  {
   "cell_type": "code",
   "execution_count": 110,
   "metadata": {},
   "outputs": [
    {
     "ename": "TypeError",
     "evalue": "'set' object does not support indexing",
     "output_type": "error",
     "traceback": [
      "\u001b[0;31m---------------------------------------------------------------------------\u001b[0m",
      "\u001b[0;31mTypeError\u001b[0m                                 Traceback (most recent call last)",
      "\u001b[0;32m<ipython-input-110-2896fe75fec6>\u001b[0m in \u001b[0;36m<module>\u001b[0;34m()\u001b[0m\n\u001b[1;32m      3\u001b[0m \u001b[0mtext\u001b[0m \u001b[0;34m=\u001b[0m \u001b[0;34m'This is the story of a girl. Who cried a river and drowned the whole world. And while she looked so sad in photographs, I absolutely loved her when she smiled.'\u001b[0m\u001b[0;34m\u001b[0m\u001b[0m\n\u001b[1;32m      4\u001b[0m \u001b[0mdoc\u001b[0m \u001b[0;34m=\u001b[0m \u001b[0mcg\u001b[0m\u001b[0;34m.\u001b[0m\u001b[0mDoc\u001b[0m\u001b[0;34m(\u001b[0m\u001b[0mtext\u001b[0m\u001b[0;34m)\u001b[0m\u001b[0;34m\u001b[0m\u001b[0m\n\u001b[0;32m----> 5\u001b[0;31m \u001b[0mdoc\u001b[0m\u001b[0;34m.\u001b[0m\u001b[0mscramble\u001b[0m\u001b[0;34m(\u001b[0m\u001b[0;34m)\u001b[0m\u001b[0;34m\u001b[0m\u001b[0m\n\u001b[0m\u001b[1;32m      6\u001b[0m \u001b[0mdoc\u001b[0m\u001b[0;34m.\u001b[0m\u001b[0mtranslate\u001b[0m\u001b[0;34m(\u001b[0m\u001b[0;34m)\u001b[0m\u001b[0;34m\u001b[0m\u001b[0m\n",
      "\u001b[0;32m~/Documents/cryptogram-solver/src/crypto.py\u001b[0m in \u001b[0;36mscramble\u001b[0;34m(self)\u001b[0m\n\u001b[1;32m    120\u001b[0m \u001b[0;34m\u001b[0m\u001b[0m\n\u001b[1;32m    121\u001b[0m     \u001b[0;32mdef\u001b[0m \u001b[0mscramble\u001b[0m\u001b[0;34m(\u001b[0m\u001b[0mself\u001b[0m\u001b[0;34m)\u001b[0m\u001b[0;34m:\u001b[0m\u001b[0;34m\u001b[0m\u001b[0m\n\u001b[0;32m--> 122\u001b[0;31m         \u001b[0mshuffle\u001b[0m\u001b[0;34m(\u001b[0m\u001b[0mself\u001b[0m\u001b[0;34m.\u001b[0m\u001b[0mmapping\u001b[0m\u001b[0;34m)\u001b[0m\u001b[0;34m\u001b[0m\u001b[0m\n\u001b[0m\u001b[1;32m    123\u001b[0m \u001b[0;34m\u001b[0m\u001b[0m\n\u001b[1;32m    124\u001b[0m     \u001b[0;32mdef\u001b[0m \u001b[0mtranslate\u001b[0m\u001b[0;34m(\u001b[0m\u001b[0mself\u001b[0m\u001b[0;34m)\u001b[0m\u001b[0;34m:\u001b[0m\u001b[0;34m\u001b[0m\u001b[0m\n",
      "\u001b[0;32m~/anaconda3/lib/python3.6/random.py\u001b[0m in \u001b[0;36mshuffle\u001b[0;34m(self, x, random)\u001b[0m\n\u001b[1;32m    272\u001b[0m                 \u001b[0;31m# pick an element in x[:i+1] with which to exchange x[i]\u001b[0m\u001b[0;34m\u001b[0m\u001b[0;34m\u001b[0m\u001b[0m\n\u001b[1;32m    273\u001b[0m                 \u001b[0mj\u001b[0m \u001b[0;34m=\u001b[0m \u001b[0mrandbelow\u001b[0m\u001b[0;34m(\u001b[0m\u001b[0mi\u001b[0m\u001b[0;34m+\u001b[0m\u001b[0;36m1\u001b[0m\u001b[0;34m)\u001b[0m\u001b[0;34m\u001b[0m\u001b[0m\n\u001b[0;32m--> 274\u001b[0;31m                 \u001b[0mx\u001b[0m\u001b[0;34m[\u001b[0m\u001b[0mi\u001b[0m\u001b[0;34m]\u001b[0m\u001b[0;34m,\u001b[0m \u001b[0mx\u001b[0m\u001b[0;34m[\u001b[0m\u001b[0mj\u001b[0m\u001b[0;34m]\u001b[0m \u001b[0;34m=\u001b[0m \u001b[0mx\u001b[0m\u001b[0;34m[\u001b[0m\u001b[0mj\u001b[0m\u001b[0;34m]\u001b[0m\u001b[0;34m,\u001b[0m \u001b[0mx\u001b[0m\u001b[0;34m[\u001b[0m\u001b[0mi\u001b[0m\u001b[0;34m]\u001b[0m\u001b[0;34m\u001b[0m\u001b[0m\n\u001b[0m\u001b[1;32m    275\u001b[0m         \u001b[0;32melse\u001b[0m\u001b[0;34m:\u001b[0m\u001b[0;34m\u001b[0m\u001b[0m\n\u001b[1;32m    276\u001b[0m             \u001b[0m_int\u001b[0m \u001b[0;34m=\u001b[0m \u001b[0mint\u001b[0m\u001b[0;34m\u001b[0m\u001b[0m\n",
      "\u001b[0;31mTypeError\u001b[0m: 'set' object does not support indexing"
     ]
    }
   ],
   "source": [
    "text = doc2.text\n",
    "text = 'Rbo rpktigo vcrb bwucja wj kloj hcjd, km sktpqo, cq rbwr loklgo vcgg cjqcqr kj skhcja wgkja wjd rpycja rk ltr rbcjaq cj cr. -- Roppy Lpwrsborr'\n",
    "text = 'This is the story of a girl. Who cried a river and drowned the whole world. And while she looked so sad in photographs, I absolutely loved her when she smiled.'\n",
    "doc = cg.Doc(text)\n",
    "doc.scramble()\n",
    "doc.translate()"
   ]
  },
  {
   "cell_type": "code",
   "execution_count": 87,
   "metadata": {},
   "outputs": [
    {
     "name": "stdout",
     "output_type": "stream",
     "text": [
      "*"
     ]
    },
    {
     "ename": "AttributeError",
     "evalue": "'Doc' object has no attribute 'letters'",
     "output_type": "error",
     "traceback": [
      "\u001b[0;31m---------------------------------------------------------------------------\u001b[0m",
      "\u001b[0;31mAttributeError\u001b[0m                            Traceback (most recent call last)",
      "\u001b[0;32m<ipython-input-87-2ebc91858089>\u001b[0m in \u001b[0;36m<module>\u001b[0;34m()\u001b[0m\n\u001b[1;32m      1\u001b[0m \u001b[0;31m# text, options = solve_cryptogram(doc.text, tokenizer)\u001b[0m\u001b[0;34m\u001b[0m\u001b[0;34m\u001b[0m\u001b[0m\n\u001b[0;32m----> 2\u001b[0;31m \u001b[0mtext\u001b[0m \u001b[0;34m=\u001b[0m \u001b[0msolve_cryptogram\u001b[0m\u001b[0;34m(\u001b[0m\u001b[0mdoc\u001b[0m\u001b[0;34m.\u001b[0m\u001b[0mtext\u001b[0m\u001b[0;34m,\u001b[0m \u001b[0mtokenizer\u001b[0m\u001b[0;34m)\u001b[0m\u001b[0;34m\u001b[0m\u001b[0m\n\u001b[0m\u001b[1;32m      3\u001b[0m \u001b[0mprint\u001b[0m\u001b[0;34m(\u001b[0m\u001b[0mtext\u001b[0m\u001b[0;34m)\u001b[0m\u001b[0;34m\u001b[0m\u001b[0m\n",
      "\u001b[0;32m<ipython-input-20-8b60ec518aaf>\u001b[0m in \u001b[0;36msolve_cryptogram\u001b[0;34m(text, tokenizer, max_epochs, is_debug)\u001b[0m\n\u001b[1;32m      9\u001b[0m         \u001b[0mprint\u001b[0m\u001b[0;34m(\u001b[0m\u001b[0;34m'*'\u001b[0m\u001b[0;34m,\u001b[0m \u001b[0mend\u001b[0m\u001b[0;34m=\u001b[0m\u001b[0;34m''\u001b[0m\u001b[0;34m)\u001b[0m\u001b[0;34m\u001b[0m\u001b[0m\n\u001b[1;32m     10\u001b[0m         \u001b[0mseen\u001b[0m \u001b[0;34m=\u001b[0m \u001b[0mset\u001b[0m\u001b[0;34m(\u001b[0m\u001b[0;34m)\u001b[0m\u001b[0;34m\u001b[0m\u001b[0m\n\u001b[0;32m---> 11\u001b[0;31m         \u001b[0;32mfor\u001b[0m \u001b[0mletter1\u001b[0m \u001b[0;32min\u001b[0m \u001b[0mdoc\u001b[0m\u001b[0;34m.\u001b[0m\u001b[0mletters\u001b[0m\u001b[0;34m:\u001b[0m\u001b[0;34m\u001b[0m\u001b[0m\n\u001b[0m\u001b[1;32m     12\u001b[0m             \u001b[0;32mfor\u001b[0m \u001b[0mletter2\u001b[0m \u001b[0;32min\u001b[0m \u001b[0mLETTERS\u001b[0m \u001b[0;34m-\u001b[0m \u001b[0mset\u001b[0m\u001b[0;34m(\u001b[0m\u001b[0mletter1\u001b[0m\u001b[0;34m)\u001b[0m\u001b[0;34m:\u001b[0m\u001b[0;34m\u001b[0m\u001b[0m\n\u001b[1;32m     13\u001b[0m                 \u001b[0mswap\u001b[0m \u001b[0;34m=\u001b[0m \u001b[0mtuple\u001b[0m\u001b[0;34m(\u001b[0m\u001b[0msorted\u001b[0m\u001b[0;34m(\u001b[0m\u001b[0;34m[\u001b[0m\u001b[0mletter1\u001b[0m\u001b[0;34m,\u001b[0m \u001b[0mletter2\u001b[0m\u001b[0;34m]\u001b[0m\u001b[0;34m)\u001b[0m\u001b[0;34m)\u001b[0m\u001b[0;34m\u001b[0m\u001b[0m\n",
      "\u001b[0;31mAttributeError\u001b[0m: 'Doc' object has no attribute 'letters'"
     ]
    }
   ],
   "source": [
    "# text, options = solve_cryptogram(doc.text, tokenizer)\n",
    "text = solve_cryptogram(doc.text, tokenizer)\n",
    "print(text)"
   ]
  },
  {
   "cell_type": "code",
   "execution_count": 517,
   "metadata": {},
   "outputs": [],
   "source": [
    "from collections import Counter"
   ]
  },
  {
   "cell_type": "code",
   "execution_count": 518,
   "metadata": {},
   "outputs": [
    {
     "data": {
      "text/plain": [
       "Counter({'a': 1, 'b': 1, 'c': 2})"
      ]
     },
     "execution_count": 518,
     "metadata": {},
     "output_type": "execute_result"
    }
   ],
   "source": [
    "Counter(['a', 'b', 'c', 'c'])"
   ]
  },
  {
   "cell_type": "code",
   "execution_count": 23,
   "metadata": {},
   "outputs": [
    {
     "ename": "NameError",
     "evalue": "name 'options' is not defined",
     "output_type": "error",
     "traceback": [
      "\u001b[0;31m---------------------------------------------------------------------------\u001b[0m",
      "\u001b[0;31mNameError\u001b[0m                                 Traceback (most recent call last)",
      "\u001b[0;32m<ipython-input-23-62550e78b00d>\u001b[0m in \u001b[0;36m<module>\u001b[0;34m()\u001b[0m\n\u001b[1;32m      8\u001b[0m \u001b[0;34m\u001b[0m\u001b[0m\n\u001b[1;32m      9\u001b[0m \u001b[0;31m# options = {'a': 1, 'b': 2}\u001b[0m\u001b[0;34m\u001b[0m\u001b[0;34m\u001b[0m\u001b[0m\n\u001b[0;32m---> 10\u001b[0;31m \u001b[0msoftmax\u001b[0m\u001b[0;34m(\u001b[0m\u001b[0moptions\u001b[0m\u001b[0;34m,\u001b[0m \u001b[0mtemp\u001b[0m\u001b[0;34m=\u001b[0m\u001b[0;36m0.05\u001b[0m\u001b[0;34m)\u001b[0m\u001b[0;34m\u001b[0m\u001b[0m\n\u001b[0m",
      "\u001b[0;31mNameError\u001b[0m: name 'options' is not defined"
     ]
    }
   ],
   "source": [
    "def softmax(options, temp=1):\n",
    "    nums = [exp(x / temp) for x in options.values()]\n",
    "    denom = sum(nums)\n",
    "    choice_probs = [x / denom for x in nums]\n",
    "    choice = random.choices(list(options.keys()), weights=choice_probs)[0]\n",
    "    return choice\n",
    "\n",
    "\n",
    "# options = {'a': 1, 'b': 2}\n",
    "softmax(options, temp=0.05)"
   ]
  },
  {
   "cell_type": "code",
   "execution_count": 1775,
   "metadata": {},
   "outputs": [
    {
     "name": "stdout",
     "output_type": "stream",
     "text": [
      "[4.5397868702434395e-05, 0.9999546021312976]\n"
     ]
    },
    {
     "data": {
      "text/plain": [
       "'b'"
      ]
     },
     "execution_count": 1775,
     "metadata": {},
     "output_type": "execute_result"
    }
   ],
   "source": [
    "softmax(options)"
   ]
  }
 ],
 "metadata": {
  "kernelspec": {
   "display_name": "Python 3",
   "language": "python",
   "name": "python3"
  },
  "language_info": {
   "codemirror_mode": {
    "name": "ipython",
    "version": 3
   },
   "file_extension": ".py",
   "mimetype": "text/x-python",
   "name": "python",
   "nbconvert_exporter": "python",
   "pygments_lexer": "ipython3",
   "version": "3.6.3"
  }
 },
 "nbformat": 4,
 "nbformat_minor": 2
}
